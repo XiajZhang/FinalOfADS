{
 "cells": [
  {
   "cell_type": "code",
   "execution_count": 3,
   "metadata": {
    "collapsed": true
   },
   "outputs": [],
   "source": [
    "import pandas as pd\n",
    "import json, os \n",
    "import numpy as np\n",
    "from collections import Counter"
   ]
  },
  {
   "cell_type": "markdown",
   "metadata": {},
   "source": [
    "# Exploratory Data Analysis\n",
    "## Importing the Dataset"
   ]
  },
  {
   "cell_type": "code",
   "execution_count": 4,
   "metadata": {
    "collapsed": false
   },
   "outputs": [
    {
     "data": {
      "text/plain": [
       "{'address': '4855 E Warner Rd, Ste B9',\n",
       " 'attributes': {'AcceptsInsurance': True,\n",
       "  'BusinessAcceptsCreditCards': True,\n",
       "  'ByAppointmentOnly': True},\n",
       " 'business_id': 'FYWN1wneV18bWNgQjJ2GNg',\n",
       " 'categories': ['Dentists',\n",
       "  'General Dentistry',\n",
       "  'Health & Medical',\n",
       "  'Oral Surgeons',\n",
       "  'Cosmetic Dentists',\n",
       "  'Orthodontists'],\n",
       " 'city': 'Ahwatukee',\n",
       " 'hours': {'Friday': '7:30-17:00',\n",
       "  'Monday': '7:30-17:00',\n",
       "  'Thursday': '7:30-17:00',\n",
       "  'Tuesday': '7:30-17:00',\n",
       "  'Wednesday': '7:30-17:00'},\n",
       " 'is_open': 1,\n",
       " 'latitude': 33.3306902,\n",
       " 'longitude': -111.9785992,\n",
       " 'name': 'Dental by Design',\n",
       " 'neighborhood': '',\n",
       " 'postal_code': '85044',\n",
       " 'review_count': 22,\n",
       " 'stars': 4.0,\n",
       " 'state': 'AZ'}"
      ]
     },
     "execution_count": 4,
     "metadata": {},
     "output_type": "execute_result"
    }
   ],
   "source": [
    "data_dir = 'dataset'\n",
    "businesses = []\n",
    "# Read the data and save it to businesses list\n",
    "with open(os.path.join(data_dir, 'business.json')) as f:\n",
    "    for line in f:\n",
    "        businesses.append(json.loads(line))\n",
    "businesses[0]"
   ]
  },
  {
   "cell_type": "code",
   "execution_count": 5,
   "metadata": {
    "collapsed": true
   },
   "outputs": [],
   "source": [
    "# Create different list to store the information extracted from the json object\n",
    "business_id = []\n",
    "address = []\n",
    "categories = []\n",
    "name = []\n",
    "review_counts = []\n",
    "stars = []\n",
    "# Iterate throught the businesses and store the information into list\n",
    "for business in businesses:\n",
    "    business_id.append(business['business_id'])\n",
    "    address.append(business['address'])\n",
    "    categories.append(business['categories'])\n",
    "    name.append(business['name'])\n",
    "    review_counts.append(business['review_count'])\n",
    "    stars.append(business['stars'])"
   ]
  },
  {
   "cell_type": "markdown",
   "metadata": {},
   "source": [
    "## Data Process"
   ]
  },
  {
   "cell_type": "code",
   "execution_count": 6,
   "metadata": {
    "collapsed": false
   },
   "outputs": [
    {
     "name": "stdout",
     "output_type": "stream",
     "text": [
      "Business Id has  174567\n",
      "Addresses has  174567\n",
      "Categories has  174567\n",
      "Name has  174567\n",
      "Review count has  174567\n",
      "Stars has  174567\n"
     ]
    }
   ],
   "source": [
    "print(\"Business Id has \", len(business_id))\n",
    "print(\"Addresses has \", len(address))\n",
    "print(\"Categories has \", len(categories))\n",
    "print(\"Name has \", len(name))\n",
    "print(\"Review count has \", len(review_counts))\n",
    "print(\"Stars has \", len(stars))"
   ]
  },
  {
   "cell_type": "markdown",
   "metadata": {},
   "source": [
    "We have 174567 businesses. It will be time consuming to process all the data, so we will categorize the businesses into some representitive categories and analysis them by category."
   ]
  },
  {
   "cell_type": "code",
   "execution_count": 7,
   "metadata": {
    "collapsed": true
   },
   "outputs": [],
   "source": [
    "# Create a dataframe to present the business table\n",
    "df = pd.DataFrame({\"Id\": business_id, \"Address\": address, \"Categories\": categories, \"Name\": name, \"Review_Count\": review_counts, \"Stars\": stars})"
   ]
  },
  {
   "cell_type": "code",
   "execution_count": 8,
   "metadata": {
    "collapsed": false
   },
   "outputs": [
    {
     "data": {
      "text/html": [
       "<div>\n",
       "<table border=\"1\" class=\"dataframe\">\n",
       "  <thead>\n",
       "    <tr style=\"text-align: right;\">\n",
       "      <th></th>\n",
       "      <th>Address</th>\n",
       "      <th>Categories</th>\n",
       "      <th>Id</th>\n",
       "      <th>Name</th>\n",
       "      <th>Review_Count</th>\n",
       "      <th>Stars</th>\n",
       "    </tr>\n",
       "  </thead>\n",
       "  <tbody>\n",
       "    <tr>\n",
       "      <th>0</th>\n",
       "      <td>4855 E Warner Rd, Ste B9</td>\n",
       "      <td>[Dentists, General Dentistry, Health &amp; Medical...</td>\n",
       "      <td>FYWN1wneV18bWNgQjJ2GNg</td>\n",
       "      <td>Dental by Design</td>\n",
       "      <td>22</td>\n",
       "      <td>4.0</td>\n",
       "    </tr>\n",
       "    <tr>\n",
       "      <th>1</th>\n",
       "      <td>3101 Washington Rd</td>\n",
       "      <td>[Hair Stylists, Hair Salons, Men's Hair Salons...</td>\n",
       "      <td>He-G7vWjzVUysIKrfNbPUQ</td>\n",
       "      <td>Stephen Szabo Salon</td>\n",
       "      <td>11</td>\n",
       "      <td>3.0</td>\n",
       "    </tr>\n",
       "    <tr>\n",
       "      <th>2</th>\n",
       "      <td>6025 N 27th Ave, Ste 1</td>\n",
       "      <td>[Departments of Motor Vehicles, Public Service...</td>\n",
       "      <td>KQPW8lFf1y5BT2MxiSZ3QA</td>\n",
       "      <td>Western Motor Vehicle</td>\n",
       "      <td>18</td>\n",
       "      <td>1.5</td>\n",
       "    </tr>\n",
       "    <tr>\n",
       "      <th>3</th>\n",
       "      <td>5000 Arizona Mills Cr, Ste 435</td>\n",
       "      <td>[Sporting Goods, Shopping]</td>\n",
       "      <td>8DShNS-LuFqpEWIp0HxijA</td>\n",
       "      <td>Sports Authority</td>\n",
       "      <td>9</td>\n",
       "      <td>3.0</td>\n",
       "    </tr>\n",
       "    <tr>\n",
       "      <th>4</th>\n",
       "      <td>581 Howe Ave</td>\n",
       "      <td>[American (New), Nightlife, Bars, Sandwiches, ...</td>\n",
       "      <td>PfOCPjBrlQAnz__NXj9h_w</td>\n",
       "      <td>Brick House Tavern + Tap</td>\n",
       "      <td>116</td>\n",
       "      <td>3.5</td>\n",
       "    </tr>\n",
       "  </tbody>\n",
       "</table>\n",
       "</div>"
      ],
      "text/plain": [
       "                          Address  \\\n",
       "0        4855 E Warner Rd, Ste B9   \n",
       "1              3101 Washington Rd   \n",
       "2          6025 N 27th Ave, Ste 1   \n",
       "3  5000 Arizona Mills Cr, Ste 435   \n",
       "4                    581 Howe Ave   \n",
       "\n",
       "                                          Categories                      Id  \\\n",
       "0  [Dentists, General Dentistry, Health & Medical...  FYWN1wneV18bWNgQjJ2GNg   \n",
       "1  [Hair Stylists, Hair Salons, Men's Hair Salons...  He-G7vWjzVUysIKrfNbPUQ   \n",
       "2  [Departments of Motor Vehicles, Public Service...  KQPW8lFf1y5BT2MxiSZ3QA   \n",
       "3                         [Sporting Goods, Shopping]  8DShNS-LuFqpEWIp0HxijA   \n",
       "4  [American (New), Nightlife, Bars, Sandwiches, ...  PfOCPjBrlQAnz__NXj9h_w   \n",
       "\n",
       "                       Name  Review_Count  Stars  \n",
       "0          Dental by Design            22    4.0  \n",
       "1       Stephen Szabo Salon            11    3.0  \n",
       "2     Western Motor Vehicle            18    1.5  \n",
       "3          Sports Authority             9    3.0  \n",
       "4  Brick House Tavern + Tap           116    3.5  "
      ]
     },
     "execution_count": 8,
     "metadata": {},
     "output_type": "execute_result"
    }
   ],
   "source": [
    "df.head(5)"
   ]
  },
  {
   "cell_type": "markdown",
   "metadata": {},
   "source": [
    "We can see there are more than one categories of a business."
   ]
  },
  {
   "cell_type": "code",
   "execution_count": 12,
   "metadata": {
    "collapsed": false
   },
   "outputs": [
    {
     "data": {
      "text/plain": [
       "667527"
      ]
     },
     "execution_count": 12,
     "metadata": {},
     "output_type": "execute_result"
    }
   ],
   "source": [
    "from collections import Counter\n",
    "total_categories = []\n",
    "# Iterate through the dataframe and store all the categories into a total category list\n",
    "for categories in df['Categories']:\n",
    "    total_categories.extend(categories)\n",
    "len(total_categories)"
   ]
  },
  {
   "cell_type": "code",
   "execution_count": 13,
   "metadata": {
    "collapsed": false
   },
   "outputs": [
    {
     "data": {
      "text/plain": [
       "1293"
      ]
     },
     "execution_count": 13,
     "metadata": {},
     "output_type": "execute_result"
    }
   ],
   "source": [
    "# Get How many Unique categories there is in the businesses's data\n",
    "len(Counter(total_categories))"
   ]
  },
  {
   "cell_type": "markdown",
   "metadata": {},
   "source": [
    "We has 1293 categories in total. That's too much so we need to downsizing it to a reasonable number. Below shows the top 25 categories."
   ]
  },
  {
   "cell_type": "code",
   "execution_count": 133,
   "metadata": {
    "collapsed": false
   },
   "outputs": [],
   "source": [
    "#Get the most common 25 categories and their number\n",
    "categories_num = Counter(total_categories).most_common(25)"
   ]
  },
  {
   "cell_type": "code",
   "execution_count": 136,
   "metadata": {
    "collapsed": false
   },
   "outputs": [],
   "source": [
    "#Extract the category name from the (category, number) map and store them in list\n",
    "list_Of_Categories = [category[0] for category in categories_num]"
   ]
  },
  {
   "cell_type": "code",
   "execution_count": 137,
   "metadata": {
    "collapsed": false
   },
   "outputs": [
    {
     "data": {
      "text/plain": [
       "['Restaurants',\n",
       " 'Shopping',\n",
       " 'Food',\n",
       " 'Beauty & Spas',\n",
       " 'Home Services',\n",
       " 'Health & Medical',\n",
       " 'Nightlife',\n",
       " 'Local Services',\n",
       " 'Automotive',\n",
       " 'Bars',\n",
       " 'Event Planning & Services',\n",
       " 'Active Life',\n",
       " 'Fashion',\n",
       " 'Sandwiches',\n",
       " 'Fast Food',\n",
       " 'Hair Salons',\n",
       " 'American (Traditional)',\n",
       " 'Pizza',\n",
       " 'Coffee & Tea',\n",
       " 'Hotels & Travel',\n",
       " 'Arts & Entertainment',\n",
       " 'Home & Garden',\n",
       " 'Auto Repair',\n",
       " 'Doctors',\n",
       " 'Professional Services']"
      ]
     },
     "execution_count": 137,
     "metadata": {},
     "output_type": "execute_result"
    }
   ],
   "source": [
    "list_Of_Categories"
   ]
  },
  {
   "cell_type": "markdown",
   "metadata": {},
   "source": [
    "There is some sub-categories in those top 25 categories, so we select some part of them to be more general categories for our data"
   ]
  },
  {
   "cell_type": "code",
   "execution_count": 140,
   "metadata": {
    "collapsed": false
   },
   "outputs": [],
   "source": [
    "# Select the sub-categories and store them in one list\n",
    "bad_Categories = ['Food', 'Local Services', 'Automotive', 'Active Life', 'Sandwiches', 'Fast Food', 'Hair Salons', 'American (Traditional)', 'Pizza', 'Doctors', 'Professional Services']\n",
    "# Go throught the top 25 categories and get rid of sub-categories \n",
    "good_Categories = [x for x in list_Of_Categories if x not in bad_Categories]"
   ]
  },
  {
   "cell_type": "code",
   "execution_count": 145,
   "metadata": {
    "collapsed": false
   },
   "outputs": [],
   "source": [
    "# Get the column of categories and store them into a list\n",
    "list_Of_CategoriesData = df['Categories'].tolist()\n",
    "# This is a method to go through the categories list to find those ones that contains certain category.\n",
    "# For example, get all the businesses which category list contains \"Restaurants\"\n",
    "def oneCategoryOfBuisnesses(Category, inCategory):\n",
    "    for i in range(len(df)):\n",
    "        if Category in list_Of_CategoriesData[i]:\n",
    "            inCategory[i] = Category\n",
    "    print(\"Businesses of Catogories are:\")\n",
    "    print(Counter(inCategory))\n",
    "    return inCategory"
   ]
  },
  {
   "cell_type": "markdown",
   "metadata": {},
   "source": [
    "Now we need to iterate the businesses and find the one general category this business belongs to. For those not included in the general categories we chose, it will be set to 'Others' category"
   ]
  },
  {
   "cell_type": "code",
   "execution_count": 147,
   "metadata": {
    "collapsed": false
   },
   "outputs": [
    {
     "name": "stdout",
     "output_type": "stream",
     "text": [
      "Businesses of Catogories are:\n",
      "Counter({None: 119949, 'Restaurants': 54618})\n",
      "Businesses of Catogories are:\n",
      "Counter({None: 92361, 'Restaurants': 54235, 'Shopping': 27971})\n",
      "Businesses of Catogories are:\n",
      "Counter({None: 77556, 'Restaurants': 54187, 'Shopping': 25810, 'Beauty & Spas': 17014})\n",
      "Businesses of Catogories are:\n",
      "Counter({None: 63982, 'Restaurants': 54151, 'Shopping': 23262, 'Beauty & Spas': 16967, 'Home Services': 16205})\n",
      "Businesses of Catogories are:\n",
      "Counter({'Restaurants': 54124, None: 53559, 'Shopping': 22089, 'Home Services': 16156, 'Beauty & Spas': 14409, 'Health & Medical': 14230})\n",
      "Businesses of Catogories are:\n",
      "Counter({None: 49148, 'Restaurants': 46720, 'Shopping': 21812, 'Home Services': 16139, 'Beauty & Spas': 14375, 'Health & Medical': 14219, 'Nightlife': 12154})\n",
      "Businesses of Catogories are:\n",
      "Counter({None: 49148, 'Restaurants': 46720, 'Shopping': 21812, 'Home Services': 16139, 'Beauty & Spas': 14375, 'Health & Medical': 14219, 'Bars': 10563, 'Nightlife': 1591})\n",
      "Businesses of Catogories are:\n",
      "Counter({'Restaurants': 45076, None: 44042, 'Shopping': 20732, 'Home Services': 15918, 'Beauty & Spas': 14181, 'Health & Medical': 14172, 'Bars': 10072, 'Event Planning & Services': 9078, 'Nightlife': 1296})\n",
      "Businesses of Catogories are:\n",
      "Counter({'Restaurants': 45076, None: 44042, 'Home Services': 15848, 'Shopping': 14161, 'Health & Medical': 14100, 'Beauty & Spas': 14027, 'Bars': 10066, 'Event Planning & Services': 8947, 'Fashion': 7019, 'Nightlife': 1281})\n",
      "Businesses of Catogories are:\n",
      "Counter({'Restaurants': 42843, None: 40929, 'Home Services': 15843, 'Health & Medical': 14092, 'Beauty & Spas': 14015, 'Shopping': 14015, 'Bars': 9833, 'Event Planning & Services': 8820, 'Fashion': 7004, 'Coffee & Tea': 5936, 'Nightlife': 1237})\n",
      "Businesses of Catogories are:\n",
      "Counter({'Restaurants': 42771, None: 38508, 'Home Services': 15737, 'Health & Medical': 14060, 'Beauty & Spas': 13999, 'Shopping': 13962, 'Bars': 9776, 'Fashion': 6994, 'Coffee & Tea': 5920, 'Event Planning & Services': 5890, 'Hotels & Travel': 5736, 'Nightlife': 1214})\n",
      "Businesses of Catogories are:\n",
      "Counter({'Restaurants': 42654, None: 36291, 'Home Services': 15685, 'Health & Medical': 13993, 'Beauty & Spas': 13928, 'Shopping': 13332, 'Bars': 9092, 'Fashion': 6939, 'Coffee & Tea': 5822, 'Arts & Entertainment': 5515, 'Hotels & Travel': 5487, 'Event Planning & Services': 5154, 'Nightlife': 675})\n",
      "Businesses of Catogories are:\n",
      "Counter({'Restaurants': 42654, None: 36291, 'Health & Medical': 13978, 'Beauty & Spas': 13903, 'Home Services': 13876, 'Shopping': 10573, 'Bars': 9091, 'Fashion': 6400, 'Coffee & Tea': 5806, 'Hotels & Travel': 5478, 'Arts & Entertainment': 5415, 'Home & Garden': 5379, 'Event Planning & Services': 5049, 'Nightlife': 674})\n",
      "Businesses of Catogories are:\n",
      "Counter({'Restaurants': 42651, None: 31474, 'Health & Medical': 13976, 'Beauty & Spas': 13903, 'Home Services': 13805, 'Shopping': 10521, 'Bars': 9091, 'Fashion': 6379, 'Coffee & Tea': 5806, 'Arts & Entertainment': 5402, 'Home & Garden': 5344, 'Hotels & Travel': 5322, 'Auto Repair': 5172, 'Event Planning & Services': 5047, 'Nightlife': 674})\n",
      "Done!\n"
     ]
    }
   ],
   "source": [
    "# Create a none of list\n",
    "inCategory = [None] * len(df)\n",
    "# Go through the general categories list\n",
    "# Apply each of them to the method to find those businesses which is in this category\n",
    "for Category in good_Categories:\n",
    "    temp = oneCategoryOfBuisnesses(Category, inCategory)\n",
    "    inCategory = temp\n",
    "print(\"Done!\")"
   ]
  },
  {
   "cell_type": "markdown",
   "metadata": {},
   "source": [
    "This is the processing path of we selecting each category's businesses. In the end, there are still 31474 None values in our inCategory table which means 31474 records don't fit in our general category defined above. So we need to change the none value to \"Others\""
   ]
  },
  {
   "cell_type": "code",
   "execution_count": 152,
   "metadata": {
    "collapsed": false
   },
   "outputs": [],
   "source": [
    "# Change the none value to \"Others\" in the inCategory list\n",
    "inCategory = [catg if catg != None else 'Others' for catg in inCategory]"
   ]
  },
  {
   "cell_type": "code",
   "execution_count": 153,
   "metadata": {
    "collapsed": false
   },
   "outputs": [
    {
     "data": {
      "text/plain": [
       "Counter({'Arts & Entertainment': 5402,\n",
       "         'Auto Repair': 5172,\n",
       "         'Bars': 9091,\n",
       "         'Beauty & Spas': 13903,\n",
       "         'Coffee & Tea': 5806,\n",
       "         'Event Planning & Services': 5047,\n",
       "         'Fashion': 6379,\n",
       "         'Health & Medical': 13976,\n",
       "         'Home & Garden': 5344,\n",
       "         'Home Services': 13805,\n",
       "         'Hotels & Travel': 5322,\n",
       "         'Nightlife': 674,\n",
       "         'Others': 31474,\n",
       "         'Restaurants': 42651,\n",
       "         'Shopping': 10521})"
      ]
     },
     "execution_count": 153,
     "metadata": {},
     "output_type": "execute_result"
    }
   ],
   "source": [
    "# A summary of inCategory list\n",
    "Counter(inCategory)"
   ]
  },
  {
   "cell_type": "markdown",
   "metadata": {},
   "source": [
    "This is a result showing the category distribution after we factered our data. still, restuarants is the most common category"
   ]
  },
  {
   "cell_type": "code",
   "execution_count": 154,
   "metadata": {
    "collapsed": true
   },
   "outputs": [],
   "source": [
    "# Add the list as one of the column in our business dataframe\n",
    "df['inCategory'] = inCategory"
   ]
  },
  {
   "cell_type": "markdown",
   "metadata": {},
   "source": [
    "Now we will look at the mean review count of businesses and their stars, to see if there is an relationship between the business rating and their review count"
   ]
  },
  {
   "cell_type": "code",
   "execution_count": 158,
   "metadata": {
    "collapsed": false
   },
   "outputs": [
    {
     "data": {
      "image/png": "[encoded data removed]",
      "text/plain": [
       "<matplotlib.figure.Figure at 0x11bf9f2b0>"
      ]
     },
     "metadata": {},
     "output_type": "display_data"
    }
   ],
   "source": [
    "import matplotlib.pyplot as plt\n",
    "# Plot the stars and mean of review count into a bar graph\n",
    "fig = plt.figure(figsize=(8,6))\n",
    "df.groupby('Stars').Review_Count.mean().plot.bar(ylim=0)\n",
    "plt.show()"
   ]
  },
  {
   "cell_type": "markdown",
   "metadata": {},
   "source": [
    "* 1/3 of our yelp business data are restaurants, the rest can be found in Health Medical, Beauty & Spa, Hotels & Travel, Shopping....\n",
    "* From the graph we can see the average count of reviews has a positive relationship with the rating.\n",
    "* With Higher total count of reviews, its more likely the restaurant has higher ratings, suggesting that the restaurant are more popular\n",
    "* But with more people come and comment, it's not likely to keep a rating at 5 stars because it's hard to satisfy everyone"
   ]
  },
  {
   "cell_type": "code",
   "execution_count": 159,
   "metadata": {
    "collapsed": true
   },
   "outputs": [],
   "source": [
    "%matplotlib inline\n",
    "import numpy as np\n",
    "import pandas as pd\n",
    "import matplotlib as mpl\n",
    "import matplotlib.pyplot as plt\n",
    "import seaborn as sns\n",
    "sns.set(style=\"whitegrid\", color_codes=True)"
   ]
  },
  {
   "cell_type": "markdown",
   "metadata": {},
   "source": [
    "After seeing the general rating distribution, we now will plot the rating distribution by category to see if there is anything interesting behind categories"
   ]
  },
  {
   "cell_type": "code",
   "execution_count": 232,
   "metadata": {
    "collapsed": false
   },
   "outputs": [],
   "source": [
    "np.random.seed(sum(map(ord, \"categorical\")))\n",
    "index = []\n",
    "count = []\n",
    "categ = []\n",
    "# Iterate through all the categories we have\n",
    "# Get the total count of different ratings under each category\n",
    "for category in good_Categories:\n",
    "    df2 = df[df['inCategory']==category]\n",
    "    series = df2['Stars'].value_counts()\n",
    "    index.extend(series.index)\n",
    "    count.extend(series.values)\n",
    "    temp = [category] * len(series.index)\n",
    "    categ.extend(temp)"
   ]
  },
  {
   "cell_type": "code",
   "execution_count": 234,
   "metadata": {
    "collapsed": false
   },
   "outputs": [],
   "source": [
    "# Create a dataframe used for plotting.\n",
    "# categ is for the business category\n",
    "# index is for the corresponding stars\n",
    "# count is the related stars' number\n",
    "data_to_plot = pd.DataFrame({'inCategory': categ, 'Stars': index, 'Count': count})"
   ]
  },
  {
   "cell_type": "code",
   "execution_count": 238,
   "metadata": {
    "collapsed": false
   },
   "outputs": [
    {
     "data": {
      "image/png": "[encoded data removed]",
      "text/plain": [
       "<matplotlib.figure.Figure at 0x1efcc7128>"
      ]
     },
     "metadata": {},
     "output_type": "display_data"
    }
   ],
   "source": [
    "sns.countplot(x=\"Stars\", data=df, palette=\"Greens_d\");"
   ]
  },
  {
   "cell_type": "markdown",
   "metadata": {},
   "source": [
    "* This is the general distribution of ratings in our dataset\n",
    "* what's interesting is, we have more 5 stars businesses tha  4.5 stars busiesses,but the total review counts of 5 stars businesses are much lower than 4.5 stars.\n",
    "* It means 5 stars businesses are more likely with fewer customers and haven't gone popular, so the rating is biased and may can't stand the marketing in long run"
   ]
  },
  {
   "cell_type": "code",
   "execution_count": 253,
   "metadata": {
    "collapsed": false
   },
   "outputs": [
    {
     "data": {
      "image/png": "[encoded data removed]",
      "text/plain": [
       "<matplotlib.figure.Figure at 0x1d3356320>"
      ]
     },
     "metadata": {},
     "output_type": "display_data"
    }
   ],
   "source": [
    "# Plot the restaurant stars distribution \n",
    "sns.barplot(x=\"inCategory\", y=\"Count\", hue=\"Stars\", data=data_to_plot, order=[\"Restaurants\"]);"
   ]
  },
  {
   "cell_type": "code",
   "execution_count": 252,
   "metadata": {
    "collapsed": false
   },
   "outputs": [
    {
     "data": {
      "image/png": "[encoded data removed]",
      "text/plain": [
       "<matplotlib.figure.Figure at 0x1ef4960b8>"
      ]
     },
     "metadata": {},
     "output_type": "display_data"
    }
   ],
   "source": [
    "# Plot a grid graph to present the stars rating in different categories\n",
    "g = sns.FacetGrid(data_to_plot, col_wrap=3, col=\"inCategory\")\n",
    "g.map(sns.barplot, \"Stars\", \"Count\", palette=\"Paired\");"
   ]
  },
  {
   "cell_type": "markdown",
   "metadata": {},
   "source": [
    "### This is the rating distribution of our 14 categories \n",
    "* The Restaurants rating distribution shows a almost norminal distribution, which is understandable consider restaurants reviews are more subjective. Everyone has their own taste.\n",
    "* Bars and Coffe & Tea has the same kind of distribution with Restaurants, proves again the distribution would tend more norminal when the reviews are subjective.\n",
    "* Health & Service shows more percentage of 5 stars as in Health Businesses are more objective."
   ]
  },
  {
   "cell_type": "markdown",
   "metadata": {},
   "source": [
    "# Load Review Data"
   ]
  },
  {
   "cell_type": "code",
   "execution_count": 19,
   "metadata": {
    "collapsed": false
   },
   "outputs": [
    {
     "data": {
      "text/plain": [
       "{'business_id': '0W4lkclzZThpx3V65bVgig',\n",
       " 'cool': 0,\n",
       " 'date': '2016-05-28',\n",
       " 'funny': 0,\n",
       " 'review_id': 'v0i_UHJMo_hPBq9bxWvW4w',\n",
       " 'stars': 5,\n",
       " 'text': \"Love the staff, love the meat, love the place. Prepare for a long line around lunch or dinner hours. \\n\\nThey ask you how you want you meat, lean or something maybe, I can't remember. Just say you don't want it too fatty. \\n\\nGet a half sour pickle and a hot pepper. Hand cut french fries too.\",\n",
       " 'useful': 0,\n",
       " 'user_id': 'bv2nCi5Qv5vroFiqKGopiw'}"
      ]
     },
     "execution_count": 19,
     "metadata": {},
     "output_type": "execute_result"
    }
   ],
   "source": [
    "data_dir = 'dataset'\n",
    "reviews = []\n",
    "# Read the reviews table \n",
    "with open(os.path.join(data_dir, 'review.json')) as f:\n",
    "    for line in f:\n",
    "        reviews.append(json.loads(line))\n",
    "reviews[0]"
   ]
  },
  {
   "cell_type": "markdown",
   "metadata": {},
   "source": [
    "## Processing Reviews Data\n",
    "* Because reviews are distinct for different kind of businesses, so we need to divide the reviews based on the business' category"
   ]
  },
  {
   "cell_type": "code",
   "execution_count": 21,
   "metadata": {
    "collapsed": false
   },
   "outputs": [],
   "source": [
    "text = []\n",
    "bus_id = []\n",
    "date = []\n",
    "starOfReview = []\n",
    "review_id = []\n",
    "user_id = []\n",
    "# Go through all the reviews json object\n",
    "# Extract the data and stores them in a list\n",
    "for review in reviews:\n",
    "    bus_id.append(review['business_id'])\n",
    "    text.append(review['text'])\n",
    "    date.append(review['date'])\n",
    "    review_id.append(review['review_id'])\n",
    "    starOfReview.append(review['stars'])\n",
    "    user_id.append(review['user_id'])"
   ]
  },
  {
   "cell_type": "markdown",
   "metadata": {},
   "source": [
    "Since different businesses have different kind of features, to do better models for natural language processing and predict the rating, we will do the model by categories."
   ]
  },
  {
   "cell_type": "code",
   "execution_count": 23,
   "metadata": {
    "collapsed": true
   },
   "outputs": [],
   "source": [
    "# Create a dataframe to store all the business information\n",
    "reviews_data = pd.DataFrame({'Business_id': bus_id, 'Text': text, 'Date': date, 'Review Id': review_id, 'Stars': starOfReview, 'User Id': user_id})"
   ]
  },
  {
   "cell_type": "markdown",
   "metadata": {},
   "source": [
    "This is a block of code where we extract all the restaurants' reviews. To map the restaurants and reviews, we need to get the category information from business table and use the business id to extract reviews from review table. Because our data is too big and there is a O(n) time complexity process, we failed to load in my machine so I took the code to another machine then load the data back."
   ]
  },
  {
   "cell_type": "code",
   "execution_count": 62,
   "metadata": {
    "collapsed": false
   },
   "outputs": [
    {
     "ename": "KeyboardInterrupt",
     "evalue": "",
     "output_type": "error",
     "traceback": [
      "\u001b[0;31m---------------------------------------------------------------------------\u001b[0m",
      "\u001b[0;31mKeyboardInterrupt\u001b[0m                         Traceback (most recent call last)",
      "\u001b[0;32m<ipython-input-62-cbdeabe905a6>\u001b[0m in \u001b[0;36m<module>\u001b[0;34m()\u001b[0m\n\u001b[1;32m      3\u001b[0m     \u001b[0;32mif\u001b[0m\u001b[0;34m(\u001b[0m\u001b[0mi\u001b[0m\u001b[0;34m%\u001b[0m\u001b[0;36m10000\u001b[0m \u001b[0;34m==\u001b[0m \u001b[0;36m0\u001b[0m \u001b[0;34m&\u001b[0m \u001b[0mi\u001b[0m \u001b[0;34m!=\u001b[0m \u001b[0;36m0\u001b[0m\u001b[0;34m)\u001b[0m\u001b[0;34m:\u001b[0m\u001b[0;34m\u001b[0m\u001b[0m\n\u001b[1;32m      4\u001b[0m         \u001b[0mprint\u001b[0m\u001b[0;34m(\u001b[0m\u001b[0;34m\"10000 processed\"\u001b[0m\u001b[0;34m)\u001b[0m\u001b[0;34m\u001b[0m\u001b[0m\n\u001b[0;32m----> 5\u001b[0;31m     \u001b[0;32mif\u001b[0m \u001b[0mreviews_data\u001b[0m\u001b[0;34m[\u001b[0m\u001b[0;34m'Business_id'\u001b[0m\u001b[0;34m]\u001b[0m\u001b[0;34m[\u001b[0m\u001b[0mi\u001b[0m\u001b[0;34m]\u001b[0m \u001b[0;32min\u001b[0m \u001b[0mrid_list\u001b[0m\u001b[0;34m:\u001b[0m\u001b[0;34m\u001b[0m\u001b[0m\n\u001b[0m\u001b[1;32m      6\u001b[0m         \u001b[0mis_Restuarants\u001b[0m\u001b[0;34m[\u001b[0m\u001b[0mi\u001b[0m\u001b[0;34m]\u001b[0m \u001b[0;34m=\u001b[0m \u001b[0;36m1\u001b[0m\u001b[0;34m\u001b[0m\u001b[0m\n",
      "\u001b[0;31mKeyboardInterrupt\u001b[0m: "
     ]
    }
   ],
   "source": [
    "# Get all the businesses' Id which category is 'Restaurants' from business dataframe\n",
    "rid_list = df[df['inCategory'] == 'Restaurants']['business_id'].tolist()\n",
    "is_Restuarants = [0] * len(reviews_data)\n",
    "# Go throw all the reviews data\n",
    "# Extract all the reviews who has a businsses id has appeared in restaurant businesses list.\n",
    "for i in range(len(reviews_data)):\n",
    "    if(i%10000 == 0 & i != 0):\n",
    "        print(\"10000 processed\")\n",
    "    if reviews_data['Business_id'][i] in rid_list:\n",
    "        is_Restuarants[i] = 1"
   ]
  },
  {
   "cell_type": "markdown",
   "metadata": {},
   "source": [
    "This is processed data for our restaurants' reviews."
   ]
  },
  {
   "cell_type": "code",
   "execution_count": 69,
   "metadata": {
    "collapsed": false
   },
   "outputs": [],
   "source": [
    "# This machine is hard to do a so many find and storage work, \n",
    "# so we did the restaurant reviews extraction with the same code then use a csv to store it\n",
    "rst_reviews = pd.read_csv(\"./myData/rst_reviews2.csv\")"
   ]
  },
  {
   "cell_type": "code",
   "execution_count": 77,
   "metadata": {
    "collapsed": false
   },
   "outputs": [
    {
     "data": {
      "text/html": [
       "<div>\n",
       "<table border=\"1\" class=\"dataframe\">\n",
       "  <thead>\n",
       "    <tr style=\"text-align: right;\">\n",
       "      <th></th>\n",
       "      <th>Unnamed: 0</th>\n",
       "      <th>Unnamed: 0.1</th>\n",
       "      <th>Business_id</th>\n",
       "      <th>Date</th>\n",
       "      <th>Review Id</th>\n",
       "      <th>Stars</th>\n",
       "      <th>Text</th>\n",
       "      <th>User Id</th>\n",
       "      <th>is_Restaurant</th>\n",
       "    </tr>\n",
       "  </thead>\n",
       "  <tbody>\n",
       "    <tr>\n",
       "      <th>0</th>\n",
       "      <td>0</td>\n",
       "      <td>0</td>\n",
       "      <td>0W4lkclzZThpx3V65bVgig</td>\n",
       "      <td>2016-05-28</td>\n",
       "      <td>v0i_UHJMo_hPBq9bxWvW4w</td>\n",
       "      <td>5.0</td>\n",
       "      <td>Love the staff, love the meat, love the place....</td>\n",
       "      <td>bv2nCi5Qv5vroFiqKGopiw</td>\n",
       "      <td>1</td>\n",
       "    </tr>\n",
       "    <tr>\n",
       "      <th>1</th>\n",
       "      <td>1</td>\n",
       "      <td>1</td>\n",
       "      <td>AEx2SYEUJmTxVVB18LlCwA</td>\n",
       "      <td>2016-05-28</td>\n",
       "      <td>vkVSCC7xljjrAI4UGfnKEQ</td>\n",
       "      <td>5.0</td>\n",
       "      <td>Super simple place but amazing nonetheless. It...</td>\n",
       "      <td>bv2nCi5Qv5vroFiqKGopiw</td>\n",
       "      <td>1</td>\n",
       "    </tr>\n",
       "    <tr>\n",
       "      <th>2</th>\n",
       "      <td>2</td>\n",
       "      <td>2</td>\n",
       "      <td>VR6GpWIda3SfvPC-lg9H3w</td>\n",
       "      <td>2016-05-28</td>\n",
       "      <td>n6QzIUObkYshz4dz2QRJTw</td>\n",
       "      <td>5.0</td>\n",
       "      <td>Small unassuming place that changes their menu...</td>\n",
       "      <td>bv2nCi5Qv5vroFiqKGopiw</td>\n",
       "      <td>1</td>\n",
       "    </tr>\n",
       "    <tr>\n",
       "      <th>3</th>\n",
       "      <td>3</td>\n",
       "      <td>3</td>\n",
       "      <td>CKC0-MOWMqoeWf6s-szl8g</td>\n",
       "      <td>2016-05-28</td>\n",
       "      <td>MV3CcKScW05u5LVfF6ok0g</td>\n",
       "      <td>5.0</td>\n",
       "      <td>Lester's is located in a beautiful neighborhoo...</td>\n",
       "      <td>bv2nCi5Qv5vroFiqKGopiw</td>\n",
       "      <td>1</td>\n",
       "    </tr>\n",
       "    <tr>\n",
       "      <th>4</th>\n",
       "      <td>4</td>\n",
       "      <td>4</td>\n",
       "      <td>ACFtxLv8pGrrxMm6EgjreA</td>\n",
       "      <td>2016-05-28</td>\n",
       "      <td>IXvOzsEMYtiJI0CARmj77Q</td>\n",
       "      <td>4.0</td>\n",
       "      <td>Love coming here. Yes the place always needs t...</td>\n",
       "      <td>bv2nCi5Qv5vroFiqKGopiw</td>\n",
       "      <td>1</td>\n",
       "    </tr>\n",
       "    <tr>\n",
       "      <th>5</th>\n",
       "      <td>5</td>\n",
       "      <td>5</td>\n",
       "      <td>s2I_Ni76bjJNK9yG60iD-Q</td>\n",
       "      <td>2016-05-28</td>\n",
       "      <td>L_9BTb55X0GDtThi6GlZ6w</td>\n",
       "      <td>4.0</td>\n",
       "      <td>Had their chocolate almond croissant and it wa...</td>\n",
       "      <td>bv2nCi5Qv5vroFiqKGopiw</td>\n",
       "      <td>1</td>\n",
       "    </tr>\n",
       "    <tr>\n",
       "      <th>6</th>\n",
       "      <td>7</td>\n",
       "      <td>7</td>\n",
       "      <td>9_CGhHMz8698M9-PkVf0CQ</td>\n",
       "      <td>2012-05-11</td>\n",
       "      <td>ymAUG8DZfQcFTBSOiaNN4w</td>\n",
       "      <td>4.0</td>\n",
       "      <td>Who would have guess that you would be able to...</td>\n",
       "      <td>u0LXt3Uea_GidxRW1xcsfg</td>\n",
       "      <td>1</td>\n",
       "    </tr>\n",
       "    <tr>\n",
       "      <th>7</th>\n",
       "      <td>9</td>\n",
       "      <td>9</td>\n",
       "      <td>5r6-G9C4YLbC7Ziz57l3rQ</td>\n",
       "      <td>2013-02-09</td>\n",
       "      <td>w41ZS9shepfO3uEyhXEWuQ</td>\n",
       "      <td>3.0</td>\n",
       "      <td>Not bad!! Love that there is a gluten-free, ve...</td>\n",
       "      <td>u0LXt3Uea_GidxRW1xcsfg</td>\n",
       "      <td>1</td>\n",
       "    </tr>\n",
       "    <tr>\n",
       "      <th>8</th>\n",
       "      <td>11</td>\n",
       "      <td>11</td>\n",
       "      <td>z8oIoCT1cXz7gZP5GeU5OA</td>\n",
       "      <td>2013-05-01</td>\n",
       "      <td>PIsUSmvaUWB00qv5KTF1xA</td>\n",
       "      <td>4.0</td>\n",
       "      <td>This is currently my parents new favourite res...</td>\n",
       "      <td>u0LXt3Uea_GidxRW1xcsfg</td>\n",
       "      <td>1</td>\n",
       "    </tr>\n",
       "    <tr>\n",
       "      <th>9</th>\n",
       "      <td>12</td>\n",
       "      <td>12</td>\n",
       "      <td>XWTPNfskXoUL-Lf32wSk0Q</td>\n",
       "      <td>2011-09-28</td>\n",
       "      <td>PdZ_uFjbbkjtm3SCY_KrZw</td>\n",
       "      <td>3.0</td>\n",
       "      <td>Server was a little rude.\\n\\nOrdered the calam...</td>\n",
       "      <td>u0LXt3Uea_GidxRW1xcsfg</td>\n",
       "      <td>1</td>\n",
       "    </tr>\n",
       "    <tr>\n",
       "      <th>10</th>\n",
       "      <td>14</td>\n",
       "      <td>14</td>\n",
       "      <td>RtUvSWO_UZ8V3Wpj0n077w</td>\n",
       "      <td>2012-12-03</td>\n",
       "      <td>lsoSqIrrDbQvWpMvsSj2xw</td>\n",
       "      <td>3.0</td>\n",
       "      <td>Wanted to check out this place due to all the ...</td>\n",
       "      <td>u0LXt3Uea_GidxRW1xcsfg</td>\n",
       "      <td>1</td>\n",
       "    </tr>\n",
       "    <tr>\n",
       "      <th>11</th>\n",
       "      <td>15</td>\n",
       "      <td>15</td>\n",
       "      <td>Aov96CM4FZAXeZvKtsStdA</td>\n",
       "      <td>2010-07-16</td>\n",
       "      <td>23eqwlZzCWZkADWfd9atZw</td>\n",
       "      <td>5.0</td>\n",
       "      <td>This place is awesome! Definitely authentic!!!...</td>\n",
       "      <td>u0LXt3Uea_GidxRW1xcsfg</td>\n",
       "      <td>1</td>\n",
       "    </tr>\n",
       "    <tr>\n",
       "      <th>12</th>\n",
       "      <td>16</td>\n",
       "      <td>16</td>\n",
       "      <td>0W4lkclzZThpx3V65bVgig</td>\n",
       "      <td>2011-09-28</td>\n",
       "      <td>FunI9om-aK5oMIIJmhMlZA</td>\n",
       "      <td>4.0</td>\n",
       "      <td>a must stop when you are in montreal!\\n\\nI was...</td>\n",
       "      <td>u0LXt3Uea_GidxRW1xcsfg</td>\n",
       "      <td>1</td>\n",
       "    </tr>\n",
       "    <tr>\n",
       "      <th>13</th>\n",
       "      <td>18</td>\n",
       "      <td>18</td>\n",
       "      <td>PFPUMF38-lraKzLcTiz5gQ</td>\n",
       "      <td>2010-09-15</td>\n",
       "      <td>xdu8nXrbNKeaywCX79KZSw</td>\n",
       "      <td>3.0</td>\n",
       "      <td>Came here with my girlfriends one Sunday after...</td>\n",
       "      <td>u0LXt3Uea_GidxRW1xcsfg</td>\n",
       "      <td>1</td>\n",
       "    </tr>\n",
       "    <tr>\n",
       "      <th>14</th>\n",
       "      <td>19</td>\n",
       "      <td>19</td>\n",
       "      <td>oWTn2IzrprsRkPfULtjZtQ</td>\n",
       "      <td>2012-09-23</td>\n",
       "      <td>K7o5jDInfmX3cY5oH6ATNw</td>\n",
       "      <td>3.0</td>\n",
       "      <td>Came here for a burger as one of my friends sa...</td>\n",
       "      <td>u0LXt3Uea_GidxRW1xcsfg</td>\n",
       "      <td>1</td>\n",
       "    </tr>\n",
       "    <tr>\n",
       "      <th>15</th>\n",
       "      <td>20</td>\n",
       "      <td>20</td>\n",
       "      <td>zgQHtqX0gqMw1nlBZl2VnQ</td>\n",
       "      <td>2012-10-30</td>\n",
       "      <td>WYDFJOBOl7cycd7gN-c_xA</td>\n",
       "      <td>1.0</td>\n",
       "      <td>really excited to hear of this restaurant comi...</td>\n",
       "      <td>u0LXt3Uea_GidxRW1xcsfg</td>\n",
       "      <td>1</td>\n",
       "    </tr>\n",
       "    <tr>\n",
       "      <th>16</th>\n",
       "      <td>21</td>\n",
       "      <td>21</td>\n",
       "      <td>28adZ4lsuUeVB2aWzohK9g</td>\n",
       "      <td>2012-10-19</td>\n",
       "      <td>HSR2RLOifd0cvSNVqGXkMQ</td>\n",
       "      <td>3.0</td>\n",
       "      <td>was always intrigued of this place when I pass...</td>\n",
       "      <td>u0LXt3Uea_GidxRW1xcsfg</td>\n",
       "      <td>1</td>\n",
       "    </tr>\n",
       "    <tr>\n",
       "      <th>17</th>\n",
       "      <td>23</td>\n",
       "      <td>23</td>\n",
       "      <td>Xy74meQwdTnloAAyRC-4cg</td>\n",
       "      <td>2013-07-01</td>\n",
       "      <td>Q-mhDIKa3wJuWEx9uuciIA</td>\n",
       "      <td>3.0</td>\n",
       "      <td>burgers are very big portions here.\\n\\ndefinit...</td>\n",
       "      <td>u0LXt3Uea_GidxRW1xcsfg</td>\n",
       "      <td>1</td>\n",
       "    </tr>\n",
       "    <tr>\n",
       "      <th>18</th>\n",
       "      <td>24</td>\n",
       "      <td>24</td>\n",
       "      <td>hjk3ox7w1akbEuOgTJ03Bw</td>\n",
       "      <td>2012-05-10</td>\n",
       "      <td>ypjtMQLKdAwKGRS-KU7oxA</td>\n",
       "      <td>1.0</td>\n",
       "      <td>Food is very bland - not authentic at all.\\n\\n...</td>\n",
       "      <td>u0LXt3Uea_GidxRW1xcsfg</td>\n",
       "      <td>1</td>\n",
       "    </tr>\n",
       "    <tr>\n",
       "      <th>19</th>\n",
       "      <td>25</td>\n",
       "      <td>25</td>\n",
       "      <td>ZnxudK5ExgpfXs4bicS4IA</td>\n",
       "      <td>2012-09-23</td>\n",
       "      <td>vr9YpzkaVdDIauxiZYZhqA</td>\n",
       "      <td>3.0</td>\n",
       "      <td>While looking at different restaurants in the ...</td>\n",
       "      <td>u0LXt3Uea_GidxRW1xcsfg</td>\n",
       "      <td>1</td>\n",
       "    </tr>\n",
       "    <tr>\n",
       "      <th>20</th>\n",
       "      <td>26</td>\n",
       "      <td>26</td>\n",
       "      <td>Eox_Qq74oaFZ-YjthpHhBw</td>\n",
       "      <td>2011-07-18</td>\n",
       "      <td>Ia-w-nR1FrlzsiuEiqqlbg</td>\n",
       "      <td>3.0</td>\n",
       "      <td>Service is really slow here. I waited for over...</td>\n",
       "      <td>u0LXt3Uea_GidxRW1xcsfg</td>\n",
       "      <td>1</td>\n",
       "    </tr>\n",
       "    <tr>\n",
       "      <th>21</th>\n",
       "      <td>27</td>\n",
       "      <td>27</td>\n",
       "      <td>zxJlg4XCHNoFy78WZPv89w</td>\n",
       "      <td>2011-09-28</td>\n",
       "      <td>y21Fom8a_SdAyC6I0v554w</td>\n",
       "      <td>2.0</td>\n",
       "      <td>a few years ago, this used to be the place to ...</td>\n",
       "      <td>u0LXt3Uea_GidxRW1xcsfg</td>\n",
       "      <td>1</td>\n",
       "    </tr>\n",
       "    <tr>\n",
       "      <th>22</th>\n",
       "      <td>29</td>\n",
       "      <td>29</td>\n",
       "      <td>N93EYZy9R0sdlEvubu94ig</td>\n",
       "      <td>2012-09-23</td>\n",
       "      <td>Enuk_DJbK0JPmgbFU8ePKw</td>\n",
       "      <td>3.0</td>\n",
       "      <td>Not sure what the hype is, but decided to give...</td>\n",
       "      <td>u0LXt3Uea_GidxRW1xcsfg</td>\n",
       "      <td>1</td>\n",
       "    </tr>\n",
       "    <tr>\n",
       "      <th>23</th>\n",
       "      <td>31</td>\n",
       "      <td>31</td>\n",
       "      <td>4_GIJk0tX3k0x0FcUv4sNA</td>\n",
       "      <td>2010-07-26</td>\n",
       "      <td>reeZj98t_X1DrZgQgFs9Kg</td>\n",
       "      <td>4.0</td>\n",
       "      <td>Hidden on the east end of the Danforth is a lo...</td>\n",
       "      <td>u0LXt3Uea_GidxRW1xcsfg</td>\n",
       "      <td>1</td>\n",
       "    </tr>\n",
       "    <tr>\n",
       "      <th>24</th>\n",
       "      <td>32</td>\n",
       "      <td>32</td>\n",
       "      <td>I8rveLd-dl81u6c8YqAxmw</td>\n",
       "      <td>2012-05-11</td>\n",
       "      <td>z9e32TaBomM5uY7fHYqYKg</td>\n",
       "      <td>1.0</td>\n",
       "      <td>If you have not yet tried Wasabi - don't bothe...</td>\n",
       "      <td>u0LXt3Uea_GidxRW1xcsfg</td>\n",
       "      <td>1</td>\n",
       "    </tr>\n",
       "    <tr>\n",
       "      <th>25</th>\n",
       "      <td>33</td>\n",
       "      <td>33</td>\n",
       "      <td>a9aW5e731lplWGHUZ02-zQ</td>\n",
       "      <td>2013-02-09</td>\n",
       "      <td>rQgIiq1FJR8NwBJuWlUn7Q</td>\n",
       "      <td>4.0</td>\n",
       "      <td>Decided to try this place after reading the re...</td>\n",
       "      <td>u0LXt3Uea_GidxRW1xcsfg</td>\n",
       "      <td>1</td>\n",
       "    </tr>\n",
       "    <tr>\n",
       "      <th>26</th>\n",
       "      <td>35</td>\n",
       "      <td>35</td>\n",
       "      <td>0-yj2jtzLUHG2b7PpEHyog</td>\n",
       "      <td>2010-01-15</td>\n",
       "      <td>zEDdYhDYYfvd8bSQqpc_ww</td>\n",
       "      <td>4.0</td>\n",
       "      <td>Hidden in the east end of the Danforth, who kn...</td>\n",
       "      <td>u0LXt3Uea_GidxRW1xcsfg</td>\n",
       "      <td>1</td>\n",
       "    </tr>\n",
       "    <tr>\n",
       "      <th>27</th>\n",
       "      <td>38</td>\n",
       "      <td>38</td>\n",
       "      <td>Tn8O4tv1U-n0PRC8kbJJPg</td>\n",
       "      <td>2016-04-06</td>\n",
       "      <td>pREKh8GSMq5UY9CqsnlQUQ</td>\n",
       "      <td>4.0</td>\n",
       "      <td>Great place in Chinatown to get banh mi! Just ...</td>\n",
       "      <td>u0LXt3Uea_GidxRW1xcsfg</td>\n",
       "      <td>1</td>\n",
       "    </tr>\n",
       "    <tr>\n",
       "      <th>28</th>\n",
       "      <td>39</td>\n",
       "      <td>39</td>\n",
       "      <td>vyeQzjZFx6KoL2pJBQ2QFA</td>\n",
       "      <td>2011-02-16</td>\n",
       "      <td>DcON7DHHHsvl8fByRl41MQ</td>\n",
       "      <td>4.0</td>\n",
       "      <td>Very busy place here on a Friday night. Defini...</td>\n",
       "      <td>u0LXt3Uea_GidxRW1xcsfg</td>\n",
       "      <td>1</td>\n",
       "    </tr>\n",
       "    <tr>\n",
       "      <th>29</th>\n",
       "      <td>40</td>\n",
       "      <td>40</td>\n",
       "      <td>D2PmpZYRdRnzL7q4Wprf3Q</td>\n",
       "      <td>2014-09-11</td>\n",
       "      <td>sny_ekbd4i_1EBx1gwayXw</td>\n",
       "      <td>4.0</td>\n",
       "      <td>cute place on a side street - really only serv...</td>\n",
       "      <td>u0LXt3Uea_GidxRW1xcsfg</td>\n",
       "      <td>1</td>\n",
       "    </tr>\n",
       "    <tr>\n",
       "      <th>...</th>\n",
       "      <td>...</td>\n",
       "      <td>...</td>\n",
       "      <td>...</td>\n",
       "      <td>...</td>\n",
       "      <td>...</td>\n",
       "      <td>...</td>\n",
       "      <td>...</td>\n",
       "      <td>...</td>\n",
       "      <td>...</td>\n",
       "    </tr>\n",
       "    <tr>\n",
       "      <th>3221389</th>\n",
       "      <td>5261632</td>\n",
       "      <td>5261630</td>\n",
       "      <td>LkMtMHVetws5_7QfRjPtlg</td>\n",
       "      <td>2017-05-17</td>\n",
       "      <td>40SDdd73-Yzom5JG4rJ44Q</td>\n",
       "      <td>4.0</td>\n",
       "      <td>I think I may have stayed at a different LVH t...</td>\n",
       "      <td>jcXu20szpGPe9hDq9AR-ZA</td>\n",
       "      <td>1</td>\n",
       "    </tr>\n",
       "    <tr>\n",
       "      <th>3221390</th>\n",
       "      <td>5261633</td>\n",
       "      <td>5261631</td>\n",
       "      <td>RNi6tW22UMgHwWLAb0mYdA</td>\n",
       "      <td>2012-02-29</td>\n",
       "      <td>R8YAv0W6mU-r_q8406dryQ</td>\n",
       "      <td>5.0</td>\n",
       "      <td>This was our first experience at Lawry's and i...</td>\n",
       "      <td>67tsUtcLuP5mwTFm3-mrzA</td>\n",
       "      <td>1</td>\n",
       "    </tr>\n",
       "    <tr>\n",
       "      <th>3221391</th>\n",
       "      <td>5261636</td>\n",
       "      <td>5261634</td>\n",
       "      <td>Q7m8G4579-XYKV3LMW8V7g</td>\n",
       "      <td>2012-02-29</td>\n",
       "      <td>o-QGNfLQ36FtR-UK5H1TFA</td>\n",
       "      <td>4.0</td>\n",
       "      <td>Walked across the street from HRH for a late l...</td>\n",
       "      <td>67tsUtcLuP5mwTFm3-mrzA</td>\n",
       "      <td>1</td>\n",
       "    </tr>\n",
       "    <tr>\n",
       "      <th>3221392</th>\n",
       "      <td>5261637</td>\n",
       "      <td>5261635</td>\n",
       "      <td>3kdSl5mo9dWC4clrQjEDGg</td>\n",
       "      <td>2012-02-15</td>\n",
       "      <td>rTAhfrsng8ffoFOfUEPgyw</td>\n",
       "      <td>5.0</td>\n",
       "      <td>I was here on Sunday 2/12/12. OMG let me say I...</td>\n",
       "      <td>67tsUtcLuP5mwTFm3-mrzA</td>\n",
       "      <td>1</td>\n",
       "    </tr>\n",
       "    <tr>\n",
       "      <th>3221393</th>\n",
       "      <td>5261638</td>\n",
       "      <td>5261636</td>\n",
       "      <td>lLMJsTchKYF1O0fpNWpCRA</td>\n",
       "      <td>2016-06-10</td>\n",
       "      <td>hGUr1put2E6TpqMeI6lFXw</td>\n",
       "      <td>5.0</td>\n",
       "      <td>I love this place!! I always stop by after wor...</td>\n",
       "      <td>4wA_CZT08V3d8cGaAWuXog</td>\n",
       "      <td>1</td>\n",
       "    </tr>\n",
       "    <tr>\n",
       "      <th>3221394</th>\n",
       "      <td>5261639</td>\n",
       "      <td>5261637</td>\n",
       "      <td>04u-szAykldu-caSDHQaKA</td>\n",
       "      <td>2013-10-28</td>\n",
       "      <td>eQrRirSSit5MdZdtoYuHuw</td>\n",
       "      <td>1.0</td>\n",
       "      <td>Never again.  Went there last nite with a frie...</td>\n",
       "      <td>vPCYOCTMTixFXn1_60UjJQ</td>\n",
       "      <td>1</td>\n",
       "    </tr>\n",
       "    <tr>\n",
       "      <th>3221395</th>\n",
       "      <td>5261640</td>\n",
       "      <td>5261638</td>\n",
       "      <td>LBAkHJJfCoDj9aa5sc0Mxw</td>\n",
       "      <td>2013-12-13</td>\n",
       "      <td>_HubomG7kARyUVuemJbZbQ</td>\n",
       "      <td>1.0</td>\n",
       "      <td>For anyone that is actually from Illinois to d...</td>\n",
       "      <td>vPCYOCTMTixFXn1_60UjJQ</td>\n",
       "      <td>1</td>\n",
       "    </tr>\n",
       "    <tr>\n",
       "      <th>3221396</th>\n",
       "      <td>5261644</td>\n",
       "      <td>5261642</td>\n",
       "      <td>p2CcCRjOItvAQsI4DsTlHA</td>\n",
       "      <td>2012-08-23</td>\n",
       "      <td>RYeR5-BCV7lDNXCTklDgxw</td>\n",
       "      <td>3.0</td>\n",
       "      <td>Für einen gemütlichen Abend während unseres Ur...</td>\n",
       "      <td>yFDFtjcsaekCW15XKk8d3A</td>\n",
       "      <td>1</td>\n",
       "    </tr>\n",
       "    <tr>\n",
       "      <th>3221397</th>\n",
       "      <td>5261647</td>\n",
       "      <td>5261645</td>\n",
       "      <td>OB8vZCzHXv9ZyKLTJe2K3g</td>\n",
       "      <td>2011-10-20</td>\n",
       "      <td>M4Y_Fwfs2Mglb08z4BGzFg</td>\n",
       "      <td>1.0</td>\n",
       "      <td>Was there for a wedding with your standard 10 ...</td>\n",
       "      <td>mPjPyipaD0C_myqWqDipZg</td>\n",
       "      <td>1</td>\n",
       "    </tr>\n",
       "    <tr>\n",
       "      <th>3221398</th>\n",
       "      <td>5261648</td>\n",
       "      <td>5261646</td>\n",
       "      <td>6y-z_jGX7PCUubMPFDbxVA</td>\n",
       "      <td>2011-10-18</td>\n",
       "      <td>CIMhrYaTrldYxWqYlYPN-A</td>\n",
       "      <td>4.0</td>\n",
       "      <td>Went there on a tuesday nite in a group of 13 ...</td>\n",
       "      <td>mPjPyipaD0C_myqWqDipZg</td>\n",
       "      <td>1</td>\n",
       "    </tr>\n",
       "    <tr>\n",
       "      <th>3221399</th>\n",
       "      <td>5261649</td>\n",
       "      <td>5261647</td>\n",
       "      <td>IikkB8j2E-1QmujRsPh5wQ</td>\n",
       "      <td>2012-06-07</td>\n",
       "      <td>3SLi--RX6MZSsk4GrgqnPA</td>\n",
       "      <td>4.0</td>\n",
       "      <td>It was 'oooh kay'...\\n\\nFood is slightly above...</td>\n",
       "      <td>mPjPyipaD0C_myqWqDipZg</td>\n",
       "      <td>1</td>\n",
       "    </tr>\n",
       "    <tr>\n",
       "      <th>3221400</th>\n",
       "      <td>5261650</td>\n",
       "      <td>5261648</td>\n",
       "      <td>I6oxEn1HT41S2GPrDKPPvA</td>\n",
       "      <td>2011-11-15</td>\n",
       "      <td>y-6IJvH2M1H3Xmz5u9g5hg</td>\n",
       "      <td>1.0</td>\n",
       "      <td>Went to this restaurant for Dim Sum.  Asked fo...</td>\n",
       "      <td>mPjPyipaD0C_myqWqDipZg</td>\n",
       "      <td>1</td>\n",
       "    </tr>\n",
       "    <tr>\n",
       "      <th>3221401</th>\n",
       "      <td>5261651</td>\n",
       "      <td>5261649</td>\n",
       "      <td>gnkyosoOepBUqog7iDdggQ</td>\n",
       "      <td>2015-10-25</td>\n",
       "      <td>Bafy91RpLI10hJmeKOQOuw</td>\n",
       "      <td>4.0</td>\n",
       "      <td>More like 3.75*.\\n\\nRamen was so - so,  nothin...</td>\n",
       "      <td>mPjPyipaD0C_myqWqDipZg</td>\n",
       "      <td>1</td>\n",
       "    </tr>\n",
       "    <tr>\n",
       "      <th>3221402</th>\n",
       "      <td>5261652</td>\n",
       "      <td>5261650</td>\n",
       "      <td>OsB_ZtFAaLDCPzvlAjHQ-w</td>\n",
       "      <td>2017-10-31</td>\n",
       "      <td>z9wJdAjysjEOGSKBaIvMGg</td>\n",
       "      <td>3.0</td>\n",
       "      <td>The restaurant closes at 10:00pm, I arrived at...</td>\n",
       "      <td>mPjPyipaD0C_myqWqDipZg</td>\n",
       "      <td>1</td>\n",
       "    </tr>\n",
       "    <tr>\n",
       "      <th>3221403</th>\n",
       "      <td>5261653</td>\n",
       "      <td>5261651</td>\n",
       "      <td>AtUtG-oQp1rkk6ZdYcfSzw</td>\n",
       "      <td>2017-11-02</td>\n",
       "      <td>JldIaWJdtnTJVQxmh-3SAA</td>\n",
       "      <td>2.0</td>\n",
       "      <td>Service:\\n\\nAverage Chinese cafe service.  Hav...</td>\n",
       "      <td>mPjPyipaD0C_myqWqDipZg</td>\n",
       "      <td>1</td>\n",
       "    </tr>\n",
       "    <tr>\n",
       "      <th>3221404</th>\n",
       "      <td>5261654</td>\n",
       "      <td>5261652</td>\n",
       "      <td>O-uIEuv7JLUHajkemx_sVw</td>\n",
       "      <td>2011-11-01</td>\n",
       "      <td>aC7nxWLyM283uM78xry9mw</td>\n",
       "      <td>2.0</td>\n",
       "      <td>I really don't understand what is all the hype...</td>\n",
       "      <td>mPjPyipaD0C_myqWqDipZg</td>\n",
       "      <td>1</td>\n",
       "    </tr>\n",
       "    <tr>\n",
       "      <th>3221405</th>\n",
       "      <td>5261655</td>\n",
       "      <td>5261653</td>\n",
       "      <td>5VOqWjRXUPc7b1A_NSI9mQ</td>\n",
       "      <td>2011-10-20</td>\n",
       "      <td>pX2pe-fnU1i2xzs1ght1mA</td>\n",
       "      <td>3.0</td>\n",
       "      <td>Went there for lunch. For $6.99 you get:\\n\\n- ...</td>\n",
       "      <td>mPjPyipaD0C_myqWqDipZg</td>\n",
       "      <td>1</td>\n",
       "    </tr>\n",
       "    <tr>\n",
       "      <th>3221406</th>\n",
       "      <td>5261656</td>\n",
       "      <td>5261654</td>\n",
       "      <td>yADOyFmSlHuixlQ4MtHhcQ</td>\n",
       "      <td>2012-05-05</td>\n",
       "      <td>FJ0y1AnFAJ8MzNRZRdTJnw</td>\n",
       "      <td>3.0</td>\n",
       "      <td>Typical American style restaurant.  By that I ...</td>\n",
       "      <td>mPjPyipaD0C_myqWqDipZg</td>\n",
       "      <td>1</td>\n",
       "    </tr>\n",
       "    <tr>\n",
       "      <th>3221407</th>\n",
       "      <td>5261658</td>\n",
       "      <td>5261656</td>\n",
       "      <td>n0NH0FW8NU3zfeJY3QluMQ</td>\n",
       "      <td>2015-10-25</td>\n",
       "      <td>C0uT2UJQ3yz9hqE4h3sy2A</td>\n",
       "      <td>3.0</td>\n",
       "      <td>Went in for a snack on a sat night.   Bar area...</td>\n",
       "      <td>mPjPyipaD0C_myqWqDipZg</td>\n",
       "      <td>1</td>\n",
       "    </tr>\n",
       "    <tr>\n",
       "      <th>3221408</th>\n",
       "      <td>5261659</td>\n",
       "      <td>5261657</td>\n",
       "      <td>7d4_aSWLjzu9z778ac4g2g</td>\n",
       "      <td>2013-05-27</td>\n",
       "      <td>xq3eoPr_fJFNl_NVIxccvw</td>\n",
       "      <td>2.0</td>\n",
       "      <td>The decor is really nice and and clean and the...</td>\n",
       "      <td>mPjPyipaD0C_myqWqDipZg</td>\n",
       "      <td>1</td>\n",
       "    </tr>\n",
       "    <tr>\n",
       "      <th>3221409</th>\n",
       "      <td>5261660</td>\n",
       "      <td>5261658</td>\n",
       "      <td>fp24IseF5LGD1Iev7d0PVA</td>\n",
       "      <td>2011-10-20</td>\n",
       "      <td>Q76zOoiQklh62ZTmA4gJZQ</td>\n",
       "      <td>4.0</td>\n",
       "      <td>I cannot believe this place have such few revi...</td>\n",
       "      <td>mPjPyipaD0C_myqWqDipZg</td>\n",
       "      <td>1</td>\n",
       "    </tr>\n",
       "    <tr>\n",
       "      <th>3221410</th>\n",
       "      <td>5261661</td>\n",
       "      <td>5261659</td>\n",
       "      <td>GM3_MoAgPcyE1ozWxjy-XA</td>\n",
       "      <td>2012-08-18</td>\n",
       "      <td>gls24x_dYK8mYbxlVTHycw</td>\n",
       "      <td>4.0</td>\n",
       "      <td>Went with +6 people and ordered whole bunch of...</td>\n",
       "      <td>mPjPyipaD0C_myqWqDipZg</td>\n",
       "      <td>1</td>\n",
       "    </tr>\n",
       "    <tr>\n",
       "      <th>3221411</th>\n",
       "      <td>5261662</td>\n",
       "      <td>5261660</td>\n",
       "      <td>MRoTUJyR2TVpvDdbOAtBlQ</td>\n",
       "      <td>2014-06-26</td>\n",
       "      <td>MV8UTz9z_-4FG-nI8TOjPQ</td>\n",
       "      <td>4.0</td>\n",
       "      <td>Was in the area and saw a Hakka Chinese Restau...</td>\n",
       "      <td>mPjPyipaD0C_myqWqDipZg</td>\n",
       "      <td>1</td>\n",
       "    </tr>\n",
       "    <tr>\n",
       "      <th>3221412</th>\n",
       "      <td>5261663</td>\n",
       "      <td>5261661</td>\n",
       "      <td>Dv0OHpQSL4hOGl2KAEVvlA</td>\n",
       "      <td>2012-05-05</td>\n",
       "      <td>dyW1tIaWbm_RfCFCffY9yg</td>\n",
       "      <td>2.0</td>\n",
       "      <td>Not much to write about, food is mediocre at b...</td>\n",
       "      <td>mPjPyipaD0C_myqWqDipZg</td>\n",
       "      <td>1</td>\n",
       "    </tr>\n",
       "    <tr>\n",
       "      <th>3221413</th>\n",
       "      <td>5261664</td>\n",
       "      <td>5261662</td>\n",
       "      <td>CMkayuNDHPcd1dxO32kJyA</td>\n",
       "      <td>2012-05-24</td>\n",
       "      <td>ZU2UF0YBkhQFctXH5Mry3A</td>\n",
       "      <td>1.0</td>\n",
       "      <td>This place is retarded!!!  Called on a thursda...</td>\n",
       "      <td>mPjPyipaD0C_myqWqDipZg</td>\n",
       "      <td>1</td>\n",
       "    </tr>\n",
       "    <tr>\n",
       "      <th>3221414</th>\n",
       "      <td>5261665</td>\n",
       "      <td>5261663</td>\n",
       "      <td>--SrzpvFLwP_YFwB_Cetow</td>\n",
       "      <td>2011-10-18</td>\n",
       "      <td>evfB2Xzw4u7aYftWClQfeg</td>\n",
       "      <td>2.0</td>\n",
       "      <td>So after reading Precilla C. review, I decided...</td>\n",
       "      <td>mPjPyipaD0C_myqWqDipZg</td>\n",
       "      <td>1</td>\n",
       "    </tr>\n",
       "    <tr>\n",
       "      <th>3221415</th>\n",
       "      <td>5261667</td>\n",
       "      <td>5261665</td>\n",
       "      <td>pOEL97ld-FJMKO8Ki8JmYg</td>\n",
       "      <td>2016-04-30</td>\n",
       "      <td>-CJNPrDWgIkorx4iEZJXIg</td>\n",
       "      <td>3.0</td>\n",
       "      <td>Spring rolls was pretty good, cod was a bit ra...</td>\n",
       "      <td>mPjPyipaD0C_myqWqDipZg</td>\n",
       "      <td>1</td>\n",
       "    </tr>\n",
       "    <tr>\n",
       "      <th>3221416</th>\n",
       "      <td>5261668</td>\n",
       "      <td>5261666</td>\n",
       "      <td>5ubokMNw8qfbX2WtxgJG1Q</td>\n",
       "      <td>2011-10-23</td>\n",
       "      <td>W9eVvOcpBvG6lpJPoJOxuA</td>\n",
       "      <td>4.0</td>\n",
       "      <td>Had a 8 dish set meal, was enough for 10 peopl...</td>\n",
       "      <td>mPjPyipaD0C_myqWqDipZg</td>\n",
       "      <td>1</td>\n",
       "    </tr>\n",
       "    <tr>\n",
       "      <th>3221417</th>\n",
       "      <td>5261669</td>\n",
       "      <td>5261667</td>\n",
       "      <td>EO3i5kTUG7_S2OIQ23sdSA</td>\n",
       "      <td>2011-11-07</td>\n",
       "      <td>hqQ1UTFKMN2P1ezUow48OQ</td>\n",
       "      <td>3.0</td>\n",
       "      <td>A small, cozy family run Authentic korean rest...</td>\n",
       "      <td>mPjPyipaD0C_myqWqDipZg</td>\n",
       "      <td>1</td>\n",
       "    </tr>\n",
       "    <tr>\n",
       "      <th>3221418</th>\n",
       "      <td>5261670</td>\n",
       "      <td>5261668</td>\n",
       "      <td>HloEEXm_QzEpycuwA_RtQA</td>\n",
       "      <td>2011-11-15</td>\n",
       "      <td>ldsIs3sGXPJ7WM7VyAm4lQ</td>\n",
       "      <td>3.0</td>\n",
       "      <td>Really nice atmosphere and settings and very c...</td>\n",
       "      <td>mPjPyipaD0C_myqWqDipZg</td>\n",
       "      <td>1</td>\n",
       "    </tr>\n",
       "  </tbody>\n",
       "</table>\n",
       "<p>3221419 rows × 9 columns</p>\n",
       "</div>"
      ],
      "text/plain": [
       "         Unnamed: 0  Unnamed: 0.1             Business_id        Date  \\\n",
       "0                 0             0  0W4lkclzZThpx3V65bVgig  2016-05-28   \n",
       "1                 1             1  AEx2SYEUJmTxVVB18LlCwA  2016-05-28   \n",
       "2                 2             2  VR6GpWIda3SfvPC-lg9H3w  2016-05-28   \n",
       "3                 3             3  CKC0-MOWMqoeWf6s-szl8g  2016-05-28   \n",
       "4                 4             4  ACFtxLv8pGrrxMm6EgjreA  2016-05-28   \n",
       "5                 5             5  s2I_Ni76bjJNK9yG60iD-Q  2016-05-28   \n",
       "6                 7             7  9_CGhHMz8698M9-PkVf0CQ  2012-05-11   \n",
       "7                 9             9  5r6-G9C4YLbC7Ziz57l3rQ  2013-02-09   \n",
       "8                11            11  z8oIoCT1cXz7gZP5GeU5OA  2013-05-01   \n",
       "9                12            12  XWTPNfskXoUL-Lf32wSk0Q  2011-09-28   \n",
       "10               14            14  RtUvSWO_UZ8V3Wpj0n077w  2012-12-03   \n",
       "11               15            15  Aov96CM4FZAXeZvKtsStdA  2010-07-16   \n",
       "12               16            16  0W4lkclzZThpx3V65bVgig  2011-09-28   \n",
       "13               18            18  PFPUMF38-lraKzLcTiz5gQ  2010-09-15   \n",
       "14               19            19  oWTn2IzrprsRkPfULtjZtQ  2012-09-23   \n",
       "15               20            20  zgQHtqX0gqMw1nlBZl2VnQ  2012-10-30   \n",
       "16               21            21  28adZ4lsuUeVB2aWzohK9g  2012-10-19   \n",
       "17               23            23  Xy74meQwdTnloAAyRC-4cg  2013-07-01   \n",
       "18               24            24  hjk3ox7w1akbEuOgTJ03Bw  2012-05-10   \n",
       "19               25            25  ZnxudK5ExgpfXs4bicS4IA  2012-09-23   \n",
       "20               26            26  Eox_Qq74oaFZ-YjthpHhBw  2011-07-18   \n",
       "21               27            27  zxJlg4XCHNoFy78WZPv89w  2011-09-28   \n",
       "22               29            29  N93EYZy9R0sdlEvubu94ig  2012-09-23   \n",
       "23               31            31  4_GIJk0tX3k0x0FcUv4sNA  2010-07-26   \n",
       "24               32            32  I8rveLd-dl81u6c8YqAxmw  2012-05-11   \n",
       "25               33            33  a9aW5e731lplWGHUZ02-zQ  2013-02-09   \n",
       "26               35            35  0-yj2jtzLUHG2b7PpEHyog  2010-01-15   \n",
       "27               38            38  Tn8O4tv1U-n0PRC8kbJJPg  2016-04-06   \n",
       "28               39            39  vyeQzjZFx6KoL2pJBQ2QFA  2011-02-16   \n",
       "29               40            40  D2PmpZYRdRnzL7q4Wprf3Q  2014-09-11   \n",
       "...             ...           ...                     ...         ...   \n",
       "3221389     5261632       5261630  LkMtMHVetws5_7QfRjPtlg  2017-05-17   \n",
       "3221390     5261633       5261631  RNi6tW22UMgHwWLAb0mYdA  2012-02-29   \n",
       "3221391     5261636       5261634  Q7m8G4579-XYKV3LMW8V7g  2012-02-29   \n",
       "3221392     5261637       5261635  3kdSl5mo9dWC4clrQjEDGg  2012-02-15   \n",
       "3221393     5261638       5261636  lLMJsTchKYF1O0fpNWpCRA  2016-06-10   \n",
       "3221394     5261639       5261637  04u-szAykldu-caSDHQaKA  2013-10-28   \n",
       "3221395     5261640       5261638  LBAkHJJfCoDj9aa5sc0Mxw  2013-12-13   \n",
       "3221396     5261644       5261642  p2CcCRjOItvAQsI4DsTlHA  2012-08-23   \n",
       "3221397     5261647       5261645  OB8vZCzHXv9ZyKLTJe2K3g  2011-10-20   \n",
       "3221398     5261648       5261646  6y-z_jGX7PCUubMPFDbxVA  2011-10-18   \n",
       "3221399     5261649       5261647  IikkB8j2E-1QmujRsPh5wQ  2012-06-07   \n",
       "3221400     5261650       5261648  I6oxEn1HT41S2GPrDKPPvA  2011-11-15   \n",
       "3221401     5261651       5261649  gnkyosoOepBUqog7iDdggQ  2015-10-25   \n",
       "3221402     5261652       5261650  OsB_ZtFAaLDCPzvlAjHQ-w  2017-10-31   \n",
       "3221403     5261653       5261651  AtUtG-oQp1rkk6ZdYcfSzw  2017-11-02   \n",
       "3221404     5261654       5261652  O-uIEuv7JLUHajkemx_sVw  2011-11-01   \n",
       "3221405     5261655       5261653  5VOqWjRXUPc7b1A_NSI9mQ  2011-10-20   \n",
       "3221406     5261656       5261654  yADOyFmSlHuixlQ4MtHhcQ  2012-05-05   \n",
       "3221407     5261658       5261656  n0NH0FW8NU3zfeJY3QluMQ  2015-10-25   \n",
       "3221408     5261659       5261657  7d4_aSWLjzu9z778ac4g2g  2013-05-27   \n",
       "3221409     5261660       5261658  fp24IseF5LGD1Iev7d0PVA  2011-10-20   \n",
       "3221410     5261661       5261659  GM3_MoAgPcyE1ozWxjy-XA  2012-08-18   \n",
       "3221411     5261662       5261660  MRoTUJyR2TVpvDdbOAtBlQ  2014-06-26   \n",
       "3221412     5261663       5261661  Dv0OHpQSL4hOGl2KAEVvlA  2012-05-05   \n",
       "3221413     5261664       5261662  CMkayuNDHPcd1dxO32kJyA  2012-05-24   \n",
       "3221414     5261665       5261663  --SrzpvFLwP_YFwB_Cetow  2011-10-18   \n",
       "3221415     5261667       5261665  pOEL97ld-FJMKO8Ki8JmYg  2016-04-30   \n",
       "3221416     5261668       5261666  5ubokMNw8qfbX2WtxgJG1Q  2011-10-23   \n",
       "3221417     5261669       5261667  EO3i5kTUG7_S2OIQ23sdSA  2011-11-07   \n",
       "3221418     5261670       5261668  HloEEXm_QzEpycuwA_RtQA  2011-11-15   \n",
       "\n",
       "                      Review Id  Stars  \\\n",
       "0        v0i_UHJMo_hPBq9bxWvW4w    5.0   \n",
       "1        vkVSCC7xljjrAI4UGfnKEQ    5.0   \n",
       "2        n6QzIUObkYshz4dz2QRJTw    5.0   \n",
       "3        MV3CcKScW05u5LVfF6ok0g    5.0   \n",
       "4        IXvOzsEMYtiJI0CARmj77Q    4.0   \n",
       "5        L_9BTb55X0GDtThi6GlZ6w    4.0   \n",
       "6        ymAUG8DZfQcFTBSOiaNN4w    4.0   \n",
       "7        w41ZS9shepfO3uEyhXEWuQ    3.0   \n",
       "8        PIsUSmvaUWB00qv5KTF1xA    4.0   \n",
       "9        PdZ_uFjbbkjtm3SCY_KrZw    3.0   \n",
       "10       lsoSqIrrDbQvWpMvsSj2xw    3.0   \n",
       "11       23eqwlZzCWZkADWfd9atZw    5.0   \n",
       "12       FunI9om-aK5oMIIJmhMlZA    4.0   \n",
       "13       xdu8nXrbNKeaywCX79KZSw    3.0   \n",
       "14       K7o5jDInfmX3cY5oH6ATNw    3.0   \n",
       "15       WYDFJOBOl7cycd7gN-c_xA    1.0   \n",
       "16       HSR2RLOifd0cvSNVqGXkMQ    3.0   \n",
       "17       Q-mhDIKa3wJuWEx9uuciIA    3.0   \n",
       "18       ypjtMQLKdAwKGRS-KU7oxA    1.0   \n",
       "19       vr9YpzkaVdDIauxiZYZhqA    3.0   \n",
       "20       Ia-w-nR1FrlzsiuEiqqlbg    3.0   \n",
       "21       y21Fom8a_SdAyC6I0v554w    2.0   \n",
       "22       Enuk_DJbK0JPmgbFU8ePKw    3.0   \n",
       "23       reeZj98t_X1DrZgQgFs9Kg    4.0   \n",
       "24       z9e32TaBomM5uY7fHYqYKg    1.0   \n",
       "25       rQgIiq1FJR8NwBJuWlUn7Q    4.0   \n",
       "26       zEDdYhDYYfvd8bSQqpc_ww    4.0   \n",
       "27       pREKh8GSMq5UY9CqsnlQUQ    4.0   \n",
       "28       DcON7DHHHsvl8fByRl41MQ    4.0   \n",
       "29       sny_ekbd4i_1EBx1gwayXw    4.0   \n",
       "...                         ...    ...   \n",
       "3221389  40SDdd73-Yzom5JG4rJ44Q    4.0   \n",
       "3221390  R8YAv0W6mU-r_q8406dryQ    5.0   \n",
       "3221391  o-QGNfLQ36FtR-UK5H1TFA    4.0   \n",
       "3221392  rTAhfrsng8ffoFOfUEPgyw    5.0   \n",
       "3221393  hGUr1put2E6TpqMeI6lFXw    5.0   \n",
       "3221394  eQrRirSSit5MdZdtoYuHuw    1.0   \n",
       "3221395  _HubomG7kARyUVuemJbZbQ    1.0   \n",
       "3221396  RYeR5-BCV7lDNXCTklDgxw    3.0   \n",
       "3221397  M4Y_Fwfs2Mglb08z4BGzFg    1.0   \n",
       "3221398  CIMhrYaTrldYxWqYlYPN-A    4.0   \n",
       "3221399  3SLi--RX6MZSsk4GrgqnPA    4.0   \n",
       "3221400  y-6IJvH2M1H3Xmz5u9g5hg    1.0   \n",
       "3221401  Bafy91RpLI10hJmeKOQOuw    4.0   \n",
       "3221402  z9wJdAjysjEOGSKBaIvMGg    3.0   \n",
       "3221403  JldIaWJdtnTJVQxmh-3SAA    2.0   \n",
       "3221404  aC7nxWLyM283uM78xry9mw    2.0   \n",
       "3221405  pX2pe-fnU1i2xzs1ght1mA    3.0   \n",
       "3221406  FJ0y1AnFAJ8MzNRZRdTJnw    3.0   \n",
       "3221407  C0uT2UJQ3yz9hqE4h3sy2A    3.0   \n",
       "3221408  xq3eoPr_fJFNl_NVIxccvw    2.0   \n",
       "3221409  Q76zOoiQklh62ZTmA4gJZQ    4.0   \n",
       "3221410  gls24x_dYK8mYbxlVTHycw    4.0   \n",
       "3221411  MV8UTz9z_-4FG-nI8TOjPQ    4.0   \n",
       "3221412  dyW1tIaWbm_RfCFCffY9yg    2.0   \n",
       "3221413  ZU2UF0YBkhQFctXH5Mry3A    1.0   \n",
       "3221414  evfB2Xzw4u7aYftWClQfeg    2.0   \n",
       "3221415  -CJNPrDWgIkorx4iEZJXIg    3.0   \n",
       "3221416  W9eVvOcpBvG6lpJPoJOxuA    4.0   \n",
       "3221417  hqQ1UTFKMN2P1ezUow48OQ    3.0   \n",
       "3221418  ldsIs3sGXPJ7WM7VyAm4lQ    3.0   \n",
       "\n",
       "                                                      Text  \\\n",
       "0        Love the staff, love the meat, love the place....   \n",
       "1        Super simple place but amazing nonetheless. It...   \n",
       "2        Small unassuming place that changes their menu...   \n",
       "3        Lester's is located in a beautiful neighborhoo...   \n",
       "4        Love coming here. Yes the place always needs t...   \n",
       "5        Had their chocolate almond croissant and it wa...   \n",
       "6        Who would have guess that you would be able to...   \n",
       "7        Not bad!! Love that there is a gluten-free, ve...   \n",
       "8        This is currently my parents new favourite res...   \n",
       "9        Server was a little rude.\\n\\nOrdered the calam...   \n",
       "10       Wanted to check out this place due to all the ...   \n",
       "11       This place is awesome! Definitely authentic!!!...   \n",
       "12       a must stop when you are in montreal!\\n\\nI was...   \n",
       "13       Came here with my girlfriends one Sunday after...   \n",
       "14       Came here for a burger as one of my friends sa...   \n",
       "15       really excited to hear of this restaurant comi...   \n",
       "16       was always intrigued of this place when I pass...   \n",
       "17       burgers are very big portions here.\\n\\ndefinit...   \n",
       "18       Food is very bland - not authentic at all.\\n\\n...   \n",
       "19       While looking at different restaurants in the ...   \n",
       "20       Service is really slow here. I waited for over...   \n",
       "21       a few years ago, this used to be the place to ...   \n",
       "22       Not sure what the hype is, but decided to give...   \n",
       "23       Hidden on the east end of the Danforth is a lo...   \n",
       "24       If you have not yet tried Wasabi - don't bothe...   \n",
       "25       Decided to try this place after reading the re...   \n",
       "26       Hidden in the east end of the Danforth, who kn...   \n",
       "27       Great place in Chinatown to get banh mi! Just ...   \n",
       "28       Very busy place here on a Friday night. Defini...   \n",
       "29       cute place on a side street - really only serv...   \n",
       "...                                                    ...   \n",
       "3221389  I think I may have stayed at a different LVH t...   \n",
       "3221390  This was our first experience at Lawry's and i...   \n",
       "3221391  Walked across the street from HRH for a late l...   \n",
       "3221392  I was here on Sunday 2/12/12. OMG let me say I...   \n",
       "3221393  I love this place!! I always stop by after wor...   \n",
       "3221394  Never again.  Went there last nite with a frie...   \n",
       "3221395  For anyone that is actually from Illinois to d...   \n",
       "3221396  Für einen gemütlichen Abend während unseres Ur...   \n",
       "3221397  Was there for a wedding with your standard 10 ...   \n",
       "3221398  Went there on a tuesday nite in a group of 13 ...   \n",
       "3221399  It was 'oooh kay'...\\n\\nFood is slightly above...   \n",
       "3221400  Went to this restaurant for Dim Sum.  Asked fo...   \n",
       "3221401  More like 3.75*.\\n\\nRamen was so - so,  nothin...   \n",
       "3221402  The restaurant closes at 10:00pm, I arrived at...   \n",
       "3221403  Service:\\n\\nAverage Chinese cafe service.  Hav...   \n",
       "3221404  I really don't understand what is all the hype...   \n",
       "3221405  Went there for lunch. For $6.99 you get:\\n\\n- ...   \n",
       "3221406  Typical American style restaurant.  By that I ...   \n",
       "3221407  Went in for a snack on a sat night.   Bar area...   \n",
       "3221408  The decor is really nice and and clean and the...   \n",
       "3221409  I cannot believe this place have such few revi...   \n",
       "3221410  Went with +6 people and ordered whole bunch of...   \n",
       "3221411  Was in the area and saw a Hakka Chinese Restau...   \n",
       "3221412  Not much to write about, food is mediocre at b...   \n",
       "3221413  This place is retarded!!!  Called on a thursda...   \n",
       "3221414  So after reading Precilla C. review, I decided...   \n",
       "3221415  Spring rolls was pretty good, cod was a bit ra...   \n",
       "3221416  Had a 8 dish set meal, was enough for 10 peopl...   \n",
       "3221417  A small, cozy family run Authentic korean rest...   \n",
       "3221418  Really nice atmosphere and settings and very c...   \n",
       "\n",
       "                        User Id  is_Restaurant  \n",
       "0        bv2nCi5Qv5vroFiqKGopiw              1  \n",
       "1        bv2nCi5Qv5vroFiqKGopiw              1  \n",
       "2        bv2nCi5Qv5vroFiqKGopiw              1  \n",
       "3        bv2nCi5Qv5vroFiqKGopiw              1  \n",
       "4        bv2nCi5Qv5vroFiqKGopiw              1  \n",
       "5        bv2nCi5Qv5vroFiqKGopiw              1  \n",
       "6        u0LXt3Uea_GidxRW1xcsfg              1  \n",
       "7        u0LXt3Uea_GidxRW1xcsfg              1  \n",
       "8        u0LXt3Uea_GidxRW1xcsfg              1  \n",
       "9        u0LXt3Uea_GidxRW1xcsfg              1  \n",
       "10       u0LXt3Uea_GidxRW1xcsfg              1  \n",
       "11       u0LXt3Uea_GidxRW1xcsfg              1  \n",
       "12       u0LXt3Uea_GidxRW1xcsfg              1  \n",
       "13       u0LXt3Uea_GidxRW1xcsfg              1  \n",
       "14       u0LXt3Uea_GidxRW1xcsfg              1  \n",
       "15       u0LXt3Uea_GidxRW1xcsfg              1  \n",
       "16       u0LXt3Uea_GidxRW1xcsfg              1  \n",
       "17       u0LXt3Uea_GidxRW1xcsfg              1  \n",
       "18       u0LXt3Uea_GidxRW1xcsfg              1  \n",
       "19       u0LXt3Uea_GidxRW1xcsfg              1  \n",
       "20       u0LXt3Uea_GidxRW1xcsfg              1  \n",
       "21       u0LXt3Uea_GidxRW1xcsfg              1  \n",
       "22       u0LXt3Uea_GidxRW1xcsfg              1  \n",
       "23       u0LXt3Uea_GidxRW1xcsfg              1  \n",
       "24       u0LXt3Uea_GidxRW1xcsfg              1  \n",
       "25       u0LXt3Uea_GidxRW1xcsfg              1  \n",
       "26       u0LXt3Uea_GidxRW1xcsfg              1  \n",
       "27       u0LXt3Uea_GidxRW1xcsfg              1  \n",
       "28       u0LXt3Uea_GidxRW1xcsfg              1  \n",
       "29       u0LXt3Uea_GidxRW1xcsfg              1  \n",
       "...                         ...            ...  \n",
       "3221389  jcXu20szpGPe9hDq9AR-ZA              1  \n",
       "3221390  67tsUtcLuP5mwTFm3-mrzA              1  \n",
       "3221391  67tsUtcLuP5mwTFm3-mrzA              1  \n",
       "3221392  67tsUtcLuP5mwTFm3-mrzA              1  \n",
       "3221393  4wA_CZT08V3d8cGaAWuXog              1  \n",
       "3221394  vPCYOCTMTixFXn1_60UjJQ              1  \n",
       "3221395  vPCYOCTMTixFXn1_60UjJQ              1  \n",
       "3221396  yFDFtjcsaekCW15XKk8d3A              1  \n",
       "3221397  mPjPyipaD0C_myqWqDipZg              1  \n",
       "3221398  mPjPyipaD0C_myqWqDipZg              1  \n",
       "3221399  mPjPyipaD0C_myqWqDipZg              1  \n",
       "3221400  mPjPyipaD0C_myqWqDipZg              1  \n",
       "3221401  mPjPyipaD0C_myqWqDipZg              1  \n",
       "3221402  mPjPyipaD0C_myqWqDipZg              1  \n",
       "3221403  mPjPyipaD0C_myqWqDipZg              1  \n",
       "3221404  mPjPyipaD0C_myqWqDipZg              1  \n",
       "3221405  mPjPyipaD0C_myqWqDipZg              1  \n",
       "3221406  mPjPyipaD0C_myqWqDipZg              1  \n",
       "3221407  mPjPyipaD0C_myqWqDipZg              1  \n",
       "3221408  mPjPyipaD0C_myqWqDipZg              1  \n",
       "3221409  mPjPyipaD0C_myqWqDipZg              1  \n",
       "3221410  mPjPyipaD0C_myqWqDipZg              1  \n",
       "3221411  mPjPyipaD0C_myqWqDipZg              1  \n",
       "3221412  mPjPyipaD0C_myqWqDipZg              1  \n",
       "3221413  mPjPyipaD0C_myqWqDipZg              1  \n",
       "3221414  mPjPyipaD0C_myqWqDipZg              1  \n",
       "3221415  mPjPyipaD0C_myqWqDipZg              1  \n",
       "3221416  mPjPyipaD0C_myqWqDipZg              1  \n",
       "3221417  mPjPyipaD0C_myqWqDipZg              1  \n",
       "3221418  mPjPyipaD0C_myqWqDipZg              1  \n",
       "\n",
       "[3221419 rows x 9 columns]"
      ]
     },
     "execution_count": 77,
     "metadata": {},
     "output_type": "execute_result"
    }
   ],
   "source": [
    "rst_reviews"
   ]
  },
  {
   "cell_type": "code",
   "execution_count": 78,
   "metadata": {
    "collapsed": false
   },
   "outputs": [],
   "source": [
    "# Drop the unused coumns\n",
    "rst_reviews = rst_reviews.drop(['Unnamed: 0.1'], axis = 1)"
   ]
  },
  {
   "cell_type": "markdown",
   "metadata": {},
   "source": [
    "We are going to do prediction on review ratings, but we will create another column of binary classes in advance for future analysis"
   ]
  },
  {
   "cell_type": "code",
   "execution_count": 84,
   "metadata": {
    "collapsed": false
   },
   "outputs": [
    {
     "data": {
      "text/plain": [
       "Counter({False: 1123404, True: 2098015})"
      ]
     },
     "execution_count": 84,
     "metadata": {},
     "output_type": "execute_result"
    }
   ],
   "source": [
    "# Count the different value and number of reviews higher or lower than 3\n",
    "Counter(rst_reviews['Stars'] > 3)"
   ]
  },
  {
   "cell_type": "code",
   "execution_count": 91,
   "metadata": {
    "collapsed": false
   },
   "outputs": [],
   "source": [
    "# Use 3 as a boundary to create a table suggesting the positivity of this review\n",
    "rst_reviews['Positivity'] = rst_reviews['Stars'] > 3\n",
    "rst_reviews['Positivity'] = rst_reviews['Positivity']*1"
   ]
  },
  {
   "cell_type": "code",
   "execution_count": 111,
   "metadata": {
    "collapsed": true
   },
   "outputs": [],
   "source": [
    "import re\n",
    "new_text = []\n",
    "# Use regular expression to get rid of extra spaces and enter lines of reviews\n",
    "for review in rst_reviews['Text']:\n",
    "    new_text.append(re.sub('[^\\w\\s]', '', review))"
   ]
  },
  {
   "cell_type": "code",
   "execution_count": 113,
   "metadata": {
    "collapsed": true
   },
   "outputs": [],
   "source": [
    "# Drop the original data and use the cleaned and regulized text list as text data\n",
    "rst_reviews.drop(['Text'], axis = 1)\n",
    "rst_reviews['Text'] = new_text"
   ]
  },
  {
   "cell_type": "markdown",
   "metadata": {},
   "source": [
    "So here is a summary of different review rating's total number. we have lots of 5 stars and 4 stars reviews. For faster processing, we divide the data into threee parts to do the machine learning. Let's take 1 Million as one batch."
   ]
  },
  {
   "cell_type": "code",
   "execution_count": 123,
   "metadata": {
    "collapsed": false
   },
   "outputs": [
    {
     "name": "stdout",
     "output_type": "stream",
     "text": [
      "Part1:  1000000\n",
      "Part2:  1000000\n",
      "Part3:  1221419\n"
     ]
    }
   ],
   "source": [
    "# Split the reviews data into three parts, with 1000000 reviews as a batch\n",
    "rst_reviews_part1 = rst_reviews[:1000000]\n",
    "rst_reviews_part2 = rst_reviews[1000000:]\n",
    "rst_reviews_part3 = rst_reviews_part2[1000000:]\n",
    "rst_reviews_part2 = rst_reviews_part2[:1000000]\n",
    "print(\"Part1: \", len(rst_reviews_part1))\n",
    "print(\"Part2: \", len(rst_reviews_part2))\n",
    "print(\"Part3: \", len(rst_reviews_part3))"
   ]
  },
  {
   "cell_type": "code",
   "execution_count": 124,
   "metadata": {
    "collapsed": false,
    "scrolled": true
   },
   "outputs": [
    {
     "name": "stdout",
     "output_type": "stream",
     "text": [
      "Part1 Saved\n",
      "Part2 Saved\n",
      "Part3 Saved\n"
     ]
    }
   ],
   "source": [
    "# Store the data for safety first\n",
    "rst_reviews_part1.to_csv(\"rst_reviews_part1.csv\")\n",
    "print(\"Part1 Saved\")\n",
    "rst_reviews_part2.to_csv(\"rst_reviews_part2.csv\")\n",
    "print(\"Part2 Saved\")\n",
    "rst_reviews_part3.to_csv(\"rst_reviews_part3.csv\")\n",
    "print(\"Part3 Saved\")"
   ]
  },
  {
   "cell_type": "code",
   "execution_count": 2,
   "metadata": {
    "collapsed": false
   },
   "outputs": [],
   "source": [
    "rst_reviews_part2 = pd.read_csv('rst_reviews_part2.csv')"
   ]
  },
  {
   "cell_type": "code",
   "execution_count": 3,
   "metadata": {
    "collapsed": false
   },
   "outputs": [],
   "source": [
    "rst_reviews_data = rst_reviews_part2[['Text', 'Stars']]"
   ]
  },
  {
   "cell_type": "markdown",
   "metadata": {
    "collapsed": true
   },
   "source": [
    "### Delete the punctuation and un-needed symbols \n",
    "for better processing the reviews' data, we need to get rid of the punctuations and extra spaces, then use a lower case to better creating the model"
   ]
  },
  {
   "cell_type": "code",
   "execution_count": 22,
   "metadata": {
    "collapsed": false
   },
   "outputs": [
    {
     "data": {
      "text/plain": [
       "'Not sure whats wrong with this place and why its so difficult to get an order correct Ordered a burger and waited almost 20 minutes to get it whilst other people after me received their orders promptly I actually had to approach the counter ask for my order and was told they werent sure what happened to it They eventually gave me my order and were to busy to apologize for the mixup Last time I was there they forgot the cheese on the cheese burger Pathetic service and wont be returning'"
      ]
     },
     "execution_count": 22,
     "metadata": {},
     "output_type": "execute_result"
    }
   ],
   "source": [
    "# Use only 10000 reviews to train as in our machine can't work all the data in short time\n",
    "reviews_data2 = rst_reviews_data[:10000]\n",
    "reviews_data2['Text'][0]"
   ]
  },
  {
   "cell_type": "markdown",
   "metadata": {},
   "source": [
    "We split the data into training data and testing data for future machine learning purpose"
   ]
  },
  {
   "cell_type": "code",
   "execution_count": 23,
   "metadata": {
    "collapsed": false
   },
   "outputs": [],
   "source": [
    "texts = reviews_data2['Text'].tolist()\n",
    "X = []\n",
    "# Lower the case of text so it will works better for feature extraction\n",
    "for i in range(len(reviews_data2)):\n",
    "    X.append(texts[i].lower())\n",
    "# The stars will be used as labels\n",
    "y = np.array(reviews_data2['Stars'])\n",
    "X_train, X_test, y_train, y_test = train_test_split(X, y, test_size=0.3, random_state=5)"
   ]
  },
  {
   "cell_type": "code",
   "execution_count": 24,
   "metadata": {
    "collapsed": false
   },
   "outputs": [
    {
     "data": {
      "image/png": "[encoded data removed]",
      "text/plain": [
       "<matplotlib.figure.Figure at 0x11ea53320>"
      ]
     },
     "metadata": {},
     "output_type": "display_data"
    }
   ],
   "source": [
    "# Plot of the relationship between stars and reviews' count\n",
    "import matplotlib.pyplot as plt\n",
    "fig = plt.figure(figsize=(8,6))\n",
    "reviews_data2.groupby('Stars').Text.count().plot.bar(ylim=0)\n",
    "plt.show()"
   ]
  },
  {
   "cell_type": "markdown",
   "metadata": {},
   "source": [
    "This is a plot of each stars' reviews number."
   ]
  },
  {
   "cell_type": "markdown",
   "metadata": {},
   "source": [
    "### User TF-IDF to do feature extraction for our model\n",
    "By loading the text into vectorizer and selecting the n-gram parameter, we can get features for apply machine learning algorithms"
   ]
  },
  {
   "cell_type": "code",
   "execution_count": 25,
   "metadata": {
    "collapsed": false
   },
   "outputs": [
    {
     "data": {
      "text/plain": [
       "(10000, 17318)"
      ]
     },
     "execution_count": 25,
     "metadata": {},
     "output_type": "execute_result"
    }
   ],
   "source": [
    "from sklearn.feature_extraction.text import TfidfVectorizer\n",
    "# This is a tf-idf vectorizer, choose the parameters and fit to get the features\n",
    "tfidf = TfidfVectorizer(sublinear_tf=True, min_df=5, norm='l2', encoding='latin-1', ngram_range=(1, 2), stop_words='english')\n",
    "\n",
    "features = tfidf.fit_transform(X).toarray()\n",
    "labels = reviews_data2['Stars']\n",
    "features.shape"
   ]
  },
  {
   "cell_type": "markdown",
   "metadata": {},
   "source": [
    "### Train a Multinomial Naive Bayes Model"
   ]
  },
  {
   "cell_type": "code",
   "execution_count": 26,
   "metadata": {
    "collapsed": false
   },
   "outputs": [],
   "source": [
    "# This code is adopted from source:\n",
    "# https://www.slideshare.net/timruffles1/naturallanguage-processing-with-naive-bayes\n",
    "from sklearn.model_selection import train_test_split\n",
    "from sklearn.feature_extraction.text import CountVectorizer\n",
    "from sklearn.feature_extraction.text import TfidfTransformer\n",
    "from sklearn.naive_bayes import MultinomialNB\n",
    "# Use CountVectorizer and tfidf transformer to tramsform the data into vectors\n",
    "count_vect = CountVectorizer()\n",
    "X_train_counts = count_vect.fit_transform(X_train)\n",
    "tfidf_transformer = TfidfTransformer()\n",
    "X_train_tfidf = tfidf_transformer.fit_transform(X_train_counts)\n",
    "\n",
    "clf = MultinomialNB().fit(X_train_tfidf, y_train)"
   ]
  },
  {
   "cell_type": "code",
   "execution_count": 27,
   "metadata": {
    "collapsed": false
   },
   "outputs": [
    {
     "name": "stdout",
     "output_type": "stream",
     "text": [
      "[5.]\n"
     ]
    }
   ],
   "source": [
    "print(clf.predict(count_vect.transform([\"Not sure whats wrong with this place and why its so difficult to get an order correct Ordered a burger and waited almost 20 minutes to get it whilst other people after me received their orders promptly I actually had to approach the counter ask for my order and was told they werent sure what happened to it They eventually gave me my order and were to busy to apologize for the mixup Last time I was there they forgot the cheese on the cheese burger Pathetic service and wont be returning\"])))"
   ]
  },
  {
   "cell_type": "markdown",
   "metadata": {},
   "source": [
    "### Train Random Forest, LinearSVC, Logistic Regression Model and plot the accuracy "
   ]
  },
  {
   "cell_type": "code",
   "execution_count": 28,
   "metadata": {
    "collapsed": false
   },
   "outputs": [],
   "source": [
    "from sklearn.linear_model import LogisticRegression\n",
    "from sklearn.ensemble import RandomForestClassifier\n",
    "from sklearn.naive_bayes import MultinomialNB\n",
    "from sklearn.svm import LinearSVC\n",
    "\n",
    "from sklearn.model_selection import cross_val_score\n",
    "\n",
    "# Create a model list consists of different machine learning algorithms\n",
    "models = [\n",
    "    RandomForestClassifier(n_estimators=200, max_depth=3, random_state=0),\n",
    "    LinearSVC(),\n",
    "    MultinomialNB(),\n",
    "    LogisticRegression(random_state=0),\n",
    "]\n",
    "CV = 5\n",
    "cv_df = pd.DataFrame(index=range(CV * len(models)))\n",
    "entries = []\n",
    "# Iterate through the models to fit the data and do cross validation.\n",
    "for model in models:\n",
    "    model_name = model.__class__.__name__\n",
    "    accuracies = cross_val_score(model, features, labels, scoring='accuracy', cv=CV)\n",
    "    for fold_idx, accuracy in enumerate(accuracies):\n",
    "        entries.append((model_name, fold_idx, accuracy))\n",
    "# Store the algorithms and accuracy information into a list\n",
    "cv_df = pd.DataFrame(entries, columns=['model_name', 'fold_idx', 'accuracy'])"
   ]
  },
  {
   "cell_type": "code",
   "execution_count": 29,
   "metadata": {
    "collapsed": false
   },
   "outputs": [
    {
     "data": {
      "image/png": "[encoded data removed]",
      "text/plain": [
       "<matplotlib.figure.Figure at 0x11cfc1e48>"
      ]
     },
     "metadata": {},
     "output_type": "display_data"
    }
   ],
   "source": [
    "import seaborn as sns\n",
    "# Plot the different model's accuracy distribution\n",
    "sns.boxplot(x='model_name', y='accuracy', data=cv_df)\n",
    "sns.stripplot(x='model_name', y='accuracy', data=cv_df, \n",
    "              size=8, jitter=True, edgecolor=\"gray\", linewidth=2)\n",
    "plt.show()"
   ]
  },
  {
   "cell_type": "markdown",
   "metadata": {},
   "source": [
    "From this code we can see the distribution of those 5 different model's accuracy."
   ]
  },
  {
   "cell_type": "code",
   "execution_count": 30,
   "metadata": {
    "collapsed": false
   },
   "outputs": [
    {
     "data": {
      "text/plain": [
       "model_name\n",
       "LinearSVC                 0.534999\n",
       "LogisticRegression        0.548892\n",
       "MultinomialNB             0.454097\n",
       "RandomForestClassifier    0.377800\n",
       "Name: accuracy, dtype: float64"
      ]
     },
     "execution_count": 30,
     "metadata": {},
     "output_type": "execute_result"
    }
   ],
   "source": [
    "# Calculate the mean project accuracy and compare\n",
    "cv_df.groupby('model_name').accuracy.mean()"
   ]
  },
  {
   "cell_type": "markdown",
   "metadata": {},
   "source": [
    "For 5 classes classification, machine learning algorithms has low accuracy. But consider the original guess of review's rating is 25%, our machine actually did learn something from the term frequency and labels.\n",
    "* Even with a TF-IDF to do feature extraction, Logistic Regression shows a Higher prediction accuracy compares to the other three algorithms"
   ]
  },
  {
   "cell_type": "code",
   "execution_count": 31,
   "metadata": {
    "collapsed": false
   },
   "outputs": [],
   "source": [
    "# This part is an exploration on Linear SVC model\n",
    "# Which is refactored from the source:\n",
    "# https://towardsdatascience.com/machine-learning-nlp-text-classification-using-scikit-learn-python-and-nltk-c52b92a7c73a\n",
    "from sklearn.model_selection import train_test_split\n",
    "\n",
    "model = LinearSVC()\n",
    "# Split the data into training and testing data\n",
    "X_train, X_test, y_train, y_test, indices_train, indices_test = train_test_split(features, labels, reviews_data2.index, test_size=0.33, random_state=0)\n",
    "# Fit the model\n",
    "model.fit(X_train, y_train)\n",
    "# Predict the results\n",
    "y_pred = model.predict(X_test)"
   ]
  },
  {
   "cell_type": "markdown",
   "metadata": {},
   "source": [
    "To better analysis the prediction, we look at the predicted value and the actual value distribution"
   ]
  },
  {
   "cell_type": "code",
   "execution_count": 32,
   "metadata": {
    "collapsed": false
   },
   "outputs": [
    {
     "data": {
      "image/png": "[encoded data removed]",
      "text/plain": [
       "<matplotlib.figure.Figure at 0x120054b70>"
      ]
     },
     "metadata": {},
     "output_type": "display_data"
    }
   ],
   "source": [
    "# Show the relationship between predicted value and its actual value\n",
    "from sklearn.metrics import confusion_matrix\n",
    "starsOfList = sorted(reviews_data2['Stars'].unique())\n",
    "# Crate the matrix of tesing and prediction data\n",
    "conf_mat = confusion_matrix(y_test, y_pred)\n",
    "fig, ax = plt.subplots(figsize=(8,6))\n",
    "# Plot the data\n",
    "sns.heatmap(conf_mat, annot=True, fmt='d',\n",
    "            xticklabels=starsOfList, yticklabels=starsOfList)\n",
    "plt.ylabel('Actual')\n",
    "plt.xlabel('Predicted')\n",
    "plt.show()"
   ]
  },
  {
   "cell_type": "markdown",
   "metadata": {},
   "source": [
    "* This shows the prediction and actual rating points of reviews of Linear SVC model\n",
    "* We can see most of the false prdiction are the actual 4 stars predicted as 5 stars or 5 stars predicted as 4 stars. which is kind of hard to argue even from a human understanding.\n",
    "* The accuracy prediction are mostly centered at 1 stars reviews and 5 stars reviews, which makes sense because those two kind of reviews are more extreme than others\n",
    "* It would do better with binary classification."
   ]
  },
  {
   "cell_type": "markdown",
   "metadata": {},
   "source": [
    "### Use the SVC model to do One Vs Rest Classifier"
   ]
  },
  {
   "cell_type": "markdown",
   "metadata": {},
   "source": [
    "After we got the idea that SVC will do better at binary classification, we now apply it to one vs rest classifier to see if it will improve the model."
   ]
  },
  {
   "cell_type": "code",
   "execution_count": 59,
   "metadata": {
    "collapsed": true
   },
   "outputs": [],
   "source": [
    "#train test split\n",
    "from sklearn.model_selection import train_test_split\n",
    "import numpy as np\n",
    "from sklearn.pipeline import Pipeline\n",
    "from sklearn.feature_extraction.text import CountVectorizer\n",
    "from sklearn.svm import LinearSVC\n",
    "from sklearn.feature_extraction.text import TfidfTransformer\n",
    "from sklearn.multiclass import OneVsRestClassifier\n",
    "#feature engineering and model selection\n",
    "from sklearn.svm import LinearSVC\n",
    "from sklearn.linear_model import LogisticRegression\n",
    "from sklearn.ensemble import RandomForestClassifier"
   ]
  },
  {
   "cell_type": "code",
   "execution_count": 60,
   "metadata": {
    "collapsed": true
   },
   "outputs": [],
   "source": [
    "# To make the program run faster, the reviews are gonna be top 100k reviews\n",
    "reviews_data = rst_reviews_data[:100000]"
   ]
  },
  {
   "cell_type": "markdown",
   "metadata": {},
   "source": [
    "#### Split the data into traing and testing data"
   ]
  },
  {
   "cell_type": "code",
   "execution_count": 61,
   "metadata": {
    "collapsed": true
   },
   "outputs": [],
   "source": [
    "texts = reviews_data['Text'].tolist()\n",
    "X = []\n",
    "# Change the text into lower case and also get the label for the reviews\n",
    "for i in range(len(reviews_data)):\n",
    "    X.append(texts[i].lower())\n",
    "y = np.array(reviews_data['Stars'])\n",
    "# Split the data\n",
    "X_train, X_test, y_train, y_test = train_test_split(X, y, test_size=0.3, random_state=5)"
   ]
  },
  {
   "cell_type": "markdown",
   "metadata": {},
   "source": [
    "We use TD-IDF and CountVector to do the feature extraction and train the model"
   ]
  },
  {
   "cell_type": "code",
   "execution_count": 62,
   "metadata": {
    "collapsed": true
   },
   "outputs": [],
   "source": [
    "# Pipeline of feature engineering and model\n",
    "# Use count vectorizer and tfidf to do the feature extraction\n",
    "# Use the OneVsRest Classifier and LinearSVC to be the model\n",
    "# Balanced means each Binary classifier's prediction will be equally important to the final results.\n",
    "model = Pipeline([('vectorizer', CountVectorizer()),\n",
    "                  ('tfidf', TfidfTransformer()),\n",
    "                  ('clf', OneVsRestClassifier(LinearSVC(class_weight=\"balanced\")))])"
   ]
  },
  {
   "cell_type": "markdown",
   "metadata": {},
   "source": [
    "#### Pre-fit the data to model to find the best parameters for count vectorizer gram range"
   ]
  },
  {
   "cell_type": "code",
   "execution_count": 63,
   "metadata": {
    "collapsed": false
   },
   "outputs": [
    {
     "name": "stdout",
     "output_type": "stream",
     "text": [
      "0.62024\n",
      "{'tfidf__use_idf': False, 'vectorizer__ngram_range': (1, 2)}\n"
     ]
    }
   ],
   "source": [
    "#paramater selection\n",
    "from sklearn.grid_search import GridSearchCV\n",
    "parameters = {'vectorizer__ngram_range': [(1, 1), (1, 2),(2,2)],\n",
    "               'tfidf__use_idf': (True, False)}\n",
    "# pre-train and Find the perfect parameters for ngram range before our actual training.\n",
    "gs_clf_svm = GridSearchCV(model, parameters, n_jobs=-1)\n",
    "gs_clf_svm = gs_clf_svm.fit(X, y)\n",
    "print(gs_clf_svm.best_score_)\n",
    "print(gs_clf_svm.best_params_)"
   ]
  },
  {
   "cell_type": "markdown",
   "metadata": {},
   "source": [
    "The best ngram range for our data is (1, 2)"
   ]
  },
  {
   "cell_type": "code",
   "execution_count": 64,
   "metadata": {
    "collapsed": true
   },
   "outputs": [],
   "source": [
    "#preparing the final pipeline using the selected parameters\n",
    "model = Pipeline([('vectorizer', CountVectorizer(ngram_range=(1,2))),\n",
    "    ('tfidf', TfidfTransformer(use_idf=True)),\n",
    "    ('clf', OneVsRestClassifier(LinearSVC(class_weight=\"balanced\")))])"
   ]
  },
  {
   "cell_type": "code",
   "execution_count": 65,
   "metadata": {
    "collapsed": false
   },
   "outputs": [
    {
     "data": {
      "text/plain": [
       "Pipeline(memory=None,\n",
       "     steps=[('vectorizer', CountVectorizer(analyzer='word', binary=False, decode_error='strict',\n",
       "        dtype=<class 'numpy.int64'>, encoding='utf-8', input='content',\n",
       "        lowercase=True, max_df=1.0, max_features=None, min_df=1,\n",
       "        ngram_range=(1, 2), preprocessor=None, stop_words=None,\n",
       "       ...lti_class='ovr', penalty='l2', random_state=None, tol=0.0001,\n",
       "     verbose=0),\n",
       "          n_jobs=1))])"
      ]
     },
     "execution_count": 65,
     "metadata": {},
     "output_type": "execute_result"
    }
   ],
   "source": [
    "#fit model with training data\n",
    "model.fit(X_train, y_train)"
   ]
  },
  {
   "cell_type": "code",
   "execution_count": 66,
   "metadata": {
    "collapsed": true
   },
   "outputs": [],
   "source": [
    "#evaluation on test data\n",
    "pred = model.predict(X_test)"
   ]
  },
  {
   "cell_type": "code",
   "execution_count": 67,
   "metadata": {
    "collapsed": false
   },
   "outputs": [
    {
     "data": {
      "text/plain": [
       "0.6198333333333333"
      ]
     },
     "execution_count": 67,
     "metadata": {},
     "output_type": "execute_result"
    }
   ],
   "source": [
    "# Apply the model to testing data to see the accuracy.\n",
    "from sklearn.metrics import confusion_matrix, accuracy_score\n",
    "confusion_matrix(pred, y_test)\n",
    "accuracy_score(y_test, pred)"
   ]
  },
  {
   "cell_type": "markdown",
   "metadata": {},
   "source": [
    "* By doing One Vs Rest classifer, the Linear SVC model has a much higher accuracy than before.\n",
    "* But in general NLP doesn't show good results here because it's lack of consider of context and will not be better than deep learning. So we will explore further improvement in Deep Learning Area"
   ]
  },
  {
   "cell_type": "markdown",
   "metadata": {},
   "source": [
    "The text in the document by <Xiajie Zhang> is licensed under CC BY 3.0 https://creativecommons.org/licenses/by/3.0/us/\n",
    "\n",
    "The code in the document by <Xiajie Zhang> is licensed under the MIT License https://opensource.org/licenses/MIT"
   ]
  },
  {
   "cell_type": "code",
   "execution_count": null,
   "metadata": {
    "collapsed": true
   },
   "outputs": [],
   "source": []
  }
 ],
 "metadata": {
  "kernelspec": {
   "display_name": "Python 3",
   "language": "python",
   "name": "python3"
  },
  "language_info": {
   "codemirror_mode": {
    "name": "ipython",
    "version": 3
   },
   "file_extension": ".py",
   "mimetype": "text/x-python",
   "name": "python",
   "nbconvert_exporter": "python",
   "pygments_lexer": "ipython3",
   "version": "3.6.0"
  }
 },
 "nbformat": 4,
 "nbformat_minor": 2
}
